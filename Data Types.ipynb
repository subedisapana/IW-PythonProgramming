{
 "cells": [
  {
   "cell_type": "code",
   "execution_count": 19,
   "metadata": {},
   "outputs": [
    {
     "name": "stdout",
     "output_type": "stream",
     "text": [
      "{'g': 2, 'o': 3, 'l': 1, 'e': 1, '.': 1, 'c': 1, 'm': 1}\n"
     ]
    }
   ],
   "source": [
    "#1. Write a Python program to count the number of characters (characterfrequency) in a string. Sample String : google.com'\n",
    "\n",
    "def occurance(str1):\n",
    "    \n",
    "    counts = {}\n",
    "    for i in str1:\n",
    "        if i in counts:\n",
    "            counts[i] += 1\n",
    "        else:\n",
    "            counts[i] = 1\n",
    "    return counts\n",
    "     \n",
    "print(occurance('google.com'))\n"
   ]
  },
  {
   "cell_type": "code",
   "execution_count": 20,
   "metadata": {},
   "outputs": [
    {
     "name": "stdout",
     "output_type": "stream",
     "text": [
      "pyon\n"
     ]
    }
   ],
   "source": [
    "#2. Write a Python program to get a string made of the first 2 and the last 2 charsfrom a given a string. If the string length is less than 2, return instead of the empty string.\n",
    "\n",
    "msg= \"python\"\n",
    "\n",
    "for l in {msg}:\n",
    "    if len(msg)>=2:   \n",
    "     print(msg[0:2:1]+msg[-2::])\n",
    "    else: \n",
    "     print(\"\")\n",
    "   \n",
    "    "
   ]
  },
  {
   "cell_type": "code",
   "execution_count": 21,
   "metadata": {
    "scrolled": true
   },
   "outputs": [
    {
     "name": "stdout",
     "output_type": "stream",
     "text": [
      "tres$ar$\n"
     ]
    }
   ],
   "source": [
    "#3. Write a Python program to get a string from a given string where all occurrences of its first char have been changed to '$', except the first char itself.\n",
    "\n",
    "def updatedstr(str1): \n",
    "  char1 = str1[0]     \n",
    "  str1 = str1.replace(char1, '$') \n",
    "  str1 = char1 + str1[1:]\n",
    "\n",
    "  return str1\n",
    "\n",
    "print(updatedstr('trestart'))\n",
    "\n",
    " "
   ]
  },
  {
   "cell_type": "code",
   "execution_count": 22,
   "metadata": {},
   "outputs": [
    {
     "name": "stdout",
     "output_type": "stream",
     "text": [
      "xyc abz\n"
     ]
    }
   ],
   "source": [
    "#4. Write a Python program to get a single string from two given strings, separated by a space and swap the first two characters of each string.\n",
    "\n",
    "def inputstr(x,y):\n",
    "  swaped_x= y[:2] + x[2:] # xyc\n",
    "  swaped_y= x[:2] + y[2:] # abz\n",
    "    \n",
    "  return swaped_x+ ' '+ swaped_y\n",
    "\n",
    "print(inputstr('abc', 'xyz'))"
   ]
  },
  {
   "cell_type": "code",
   "execution_count": 23,
   "metadata": {},
   "outputs": [
    {
     "name": "stdout",
     "output_type": "stream",
     "text": [
      "Annoyingly\n"
     ]
    }
   ],
   "source": [
    "#5. Write a Python program to add 'ing' at the end of a given string (length should be at least 3). If the given string already ends with 'ing' then add 'ly' instead. If the string length of the given string is less than 3, leave it unchanged.\n",
    "\n",
    "str1=\"Annoying\"\n",
    "a=\"ing\"\n",
    "b=\"ly\"\n",
    "\n",
    "\n",
    "if len(str1)>=3:\n",
    "    if str1[-3:]== a:\n",
    "        print(str1 + b)\n",
    "    else:\n",
    "        print(str1 + a) \n",
    "else: \n",
    "        print({str1})"
   ]
  },
  {
   "cell_type": "code",
   "execution_count": 24,
   "metadata": {},
   "outputs": [
    {
     "name": "stdout",
     "output_type": "stream",
     "text": [
      "His performance was good!\n",
      "His performance was poor!\n"
     ]
    }
   ],
   "source": [
    "#6. Write a Python program to find the first appearance of the substring 'not' and 'poor' from a given string, if 'not' follows the 'poor', replace the whole 'not'...'poor' substring with 'good'. Return the resulting string.\n",
    "\n",
    "def output(str1):\n",
    "  a= str1.find('not') #20\n",
    "  b= str1.find('poor') #29\n",
    "  c='good'\n",
    "\n",
    "\n",
    "  if b > a and a>0 and b>0:   \n",
    "    str1 = str1.replace(str1[a:(b+4)], c)\n",
    "    return str1\n",
    "  else:\n",
    "    return str1   \n",
    "print(output('His performance was not that poor!'))\n",
    "print(output('His performance was poor!'))\n",
    "    \n",
    "    "
   ]
  },
  {
   "cell_type": "code",
   "execution_count": 25,
   "metadata": {},
   "outputs": [
    {
     "data": {
      "text/plain": [
       "'His'"
      ]
     },
     "execution_count": 25,
     "metadata": {},
     "output_type": "execute_result"
    }
   ],
   "source": [
    "str1=\"His performance was not that poor\"\n",
    "str1=str1.split()\n",
    "len(str1)\n",
    "len(str1[0])\n",
    "str1[0]\n"
   ]
  },
  {
   "cell_type": "code",
   "execution_count": 26,
   "metadata": {},
   "outputs": [
    {
     "name": "stdout",
     "output_type": "stream",
     "text": [
      "11\n"
     ]
    }
   ],
   "source": [
    "#7. Write a Python function that takes a list of words and returns the length of the longest one.\n",
    "\n",
    "def longest(str1): \n",
    "      \n",
    "    length = 0\n",
    "    str2=str1.split()\n",
    "      \n",
    "   \n",
    "    for i in str2: \n",
    "        if(len(i) > length): \n",
    "            length = len(i) \n",
    "      \n",
    "    return length  \n",
    "  \n",
    "str1= 'His performance was not that poor'\n",
    "print(longest(str1)) \n",
    "  "
   ]
  },
  {
   "cell_type": "code",
   "execution_count": 141,
   "metadata": {},
   "outputs": [
    {
     "name": "stdout",
     "output_type": "stream",
     "text": [
      "peform\n"
     ]
    }
   ],
   "source": [
    "#8.Write a Python program to remove the nth index character from a nonempty string.\n",
    "\n",
    "def remove(str1, n):\n",
    "    c = str1[:n] \n",
    "    d = str1[n+1:]\n",
    "    \n",
    "    return c + d\n",
    "\n",
    "print(remove('perform', 2))"
   ]
  },
  {
   "cell_type": "code",
   "execution_count": 28,
   "metadata": {},
   "outputs": [
    {
     "name": "stdout",
     "output_type": "stream",
     "text": [
      "aapans\n"
     ]
    }
   ],
   "source": [
    "#9. Write a Python program to change a given string to a new string where the first and last chars have been exchanged.\n",
    "\n",
    "def swapped(str1):\n",
    "    a=str1[0] #s\n",
    "    b=str1[-1] #a\n",
    "   \n",
    "    str1= b+ str1[1:-1]+ a #aapans\n",
    "    \n",
    "    return str1\n",
    " \n",
    "print(swapped('sapana'))    \n",
    "    \n"
   ]
  },
  {
   "cell_type": "code",
   "execution_count": 29,
   "metadata": {},
   "outputs": [
    {
     "name": "stdout",
     "output_type": "stream",
     "text": [
      "promne\n"
     ]
    }
   ],
   "source": [
    "#10. Write a Python program to remove the characters which have odd index values of a given string.\n",
    "\n",
    "def outcome(str1):\n",
    "  result = ''\n",
    "  for i in range(len(str1)):\n",
    "    if i % 2 == 0:\n",
    "      result = result + str1[i]\n",
    "  return result\n",
    "\n",
    "\n",
    "print(outcome('performance'))\n"
   ]
  },
  {
   "cell_type": "code",
   "execution_count": 30,
   "metadata": {},
   "outputs": [
    {
     "name": "stdout",
     "output_type": "stream",
     "text": [
      "{'hello': 3, 'my': 2, 'name': 2, 'is': 2, '.': 1, 'how': 2, 'are': 2, 'you?': 1, 'you': 1}\n"
     ]
    }
   ],
   "source": [
    "#11.Write a Python program to count the occurrences of each word in a given sentence.\n",
    "\n",
    "def occurance(str1):\n",
    "    str1=str1.split()\n",
    "    counts = {}\n",
    "    for i in str1:\n",
    "        if i in counts:\n",
    "            counts[i] += 1\n",
    "        else:\n",
    "            counts[i] = 1\n",
    "    return counts\n",
    "print(occurance('hello my name is hello . how are you? my name is hello how are you'))\n"
   ]
  },
  {
   "cell_type": "code",
   "execution_count": 31,
   "metadata": {},
   "outputs": [
    {
     "name": "stdout",
     "output_type": "stream",
     "text": [
      "('sapana', 'SAPANA')\n"
     ]
    }
   ],
   "source": [
    "#12. Write a Python script that takes input from the user and displays that input back in upper and lower cases.\n",
    "\n",
    "def ulcases(str1):\n",
    "    \n",
    "    for i in str1:\n",
    "        a=str1.lower()\n",
    "        b=str1.upper()\n",
    "    return (a,b)\n",
    "    \n",
    "print(ulcases(\"SaPaNa\"))\n",
    "    "
   ]
  },
  {
   "cell_type": "code",
   "execution_count": 32,
   "metadata": {},
   "outputs": [
    {
     "name": "stdout",
     "output_type": "stream",
     "text": [
      "['is', 'my', 'name', 'sapana', 'subedi']\n"
     ]
    }
   ],
   "source": [
    "#13. Write a Python program that accepts a comma separated sequence of words as input and prints the unique words in sorted form (alphanumerically).\n",
    "\n",
    "str1=['my','name','is','sapana','subedi']\n",
    "\n",
    "print(sorted(str1))\n"
   ]
  },
  {
   "cell_type": "code",
   "execution_count": 144,
   "metadata": {},
   "outputs": [
    {
     "name": "stdout",
     "output_type": "stream",
     "text": [
      "<i>Python</i>\n",
      "<b>Python Tutorial</b>\n"
     ]
    }
   ],
   "source": [
    "#14. Write a Python function to create the HTML string with tags around the word(s).\n",
    "\n",
    "def add_tags(tag, word):\n",
    "    \n",
    "    return \"<%s>%s</%s>\" % (tag, word, tag)\n",
    "print(add_tags('i', 'Python'))\n",
    "print(add_tags('b', 'Python Tutorial'))"
   ]
  },
  {
   "cell_type": "code",
   "execution_count": 147,
   "metadata": {},
   "outputs": [
    {
     "name": "stdout",
     "output_type": "stream",
     "text": [
      "[[Python]]\n",
      "{{PHP}}\n"
     ]
    }
   ],
   "source": [
    "#15.Write a Python function to insert a string in the middle of a string.\n",
    "#Sample function and result :\n",
    "#insert_sting_middle('[[]]<<>>', 'Python') -> [[Python]]\n",
    "#insert_sting_middle('{{}}', 'PHP') -> {{PHP}}\n",
    "\n",
    "\n",
    "\n",
    "def insert_sting_middle(str1, w):\n",
    "    return str1[:2] + w + str1[2:]\n",
    "\n",
    "print(insert_sting_middle('[[]]', 'Python'))\n",
    "print(insert_sting_middle('{{}}', 'PHP'))\n"
   ]
  },
  {
   "cell_type": "code",
   "execution_count": 33,
   "metadata": {},
   "outputs": [
    {
     "data": {
      "text/plain": [
       "257"
      ]
     },
     "execution_count": 33,
     "metadata": {},
     "output_type": "execute_result"
    }
   ],
   "source": [
    "#16. Write a Python program to sum all the items in a list.\n",
    "\n",
    "a=[1,2,5,6,9,2,21,67,90,54]\n",
    "sum(a)\n"
   ]
  },
  {
   "cell_type": "code",
   "execution_count": 34,
   "metadata": {},
   "outputs": [
    {
     "name": "stdout",
     "output_type": "stream",
     "text": [
      "1\n",
      "2\n",
      "10\n",
      "60\n",
      "540\n",
      "1080\n",
      "22680\n",
      "1519560\n",
      "136760400\n",
      "7385061600\n"
     ]
    }
   ],
   "source": [
    "# 17. Write a Python program to multiplies all the items in a list.\n",
    "\n",
    "a=[1,2,5,6,9,2,21,67,90,54]\n",
    "total=1\n",
    "for i in a:\n",
    "    total*=i\n",
    "    print(total)"
   ]
  },
  {
   "cell_type": "code",
   "execution_count": 35,
   "metadata": {},
   "outputs": [
    {
     "name": "stdout",
     "output_type": "stream",
     "text": [
      "7385061600\n"
     ]
    }
   ],
   "source": [
    "# 17. Write a Python program to multiplies all the items in a list.\n",
    "\n",
    "def total(a):\n",
    "    total=1\n",
    "    for i in a:\n",
    "        total=total*i\n",
    "    return total\n",
    "print(total([1,2,5,6,9,2,21,67,90,54]) )   "
   ]
  },
  {
   "cell_type": "code",
   "execution_count": 36,
   "metadata": {},
   "outputs": [
    {
     "name": "stdout",
     "output_type": "stream",
     "text": [
      "90\n"
     ]
    }
   ],
   "source": [
    "18. #Write a Python program to get the largest number from a list.\n",
    "\n",
    "a=[1,2,5,6,9,2,21,67,90,54]\n",
    "print(max(a))"
   ]
  },
  {
   "cell_type": "code",
   "execution_count": 37,
   "metadata": {},
   "outputs": [
    {
     "name": "stdout",
     "output_type": "stream",
     "text": [
      "1\n"
     ]
    }
   ],
   "source": [
    "#19. Write a Python program to get the smallest number from a list.\n",
    "\n",
    "a=[1,2,5,6,9,2,21,67,90,54]\n",
    "print(min(a))"
   ]
  },
  {
   "cell_type": "code",
   "execution_count": 142,
   "metadata": {},
   "outputs": [
    {
     "name": "stdout",
     "output_type": "stream",
     "text": [
      "3\n"
     ]
    }
   ],
   "source": [
    "#20. Write a Python program to count the number of strings where the string length is 2 or more and the first and last character are same from a given list of strings.\n",
    "#Sample List : ['abc', 'xyz', 'aba', '1221']\n",
    "#Expected Result : 2\n",
    "\n",
    "\n",
    "\n",
    "def timescount(str1):\n",
    "  counts = 0\n",
    "\n",
    "  for i in str1:\n",
    "    if len(i) > 1 and i[0] == i[-1]: #len of each string ie (3,3,3,4) & i[0]=abc & i[-1]=> each string ko 0 and -1 index compares\n",
    "      counts += 1\n",
    "  return counts\n",
    "\n",
    "print(timescount(['abc', 'xyz', 'aba', '1221', 'bbb']))"
   ]
  },
  {
   "cell_type": "code",
   "execution_count": 39,
   "metadata": {},
   "outputs": [
    {
     "name": "stdout",
     "output_type": "stream",
     "text": [
      "[(2, 1), (1, 2), (2, 3), (4, 4), (2, 5)]\n"
     ]
    }
   ],
   "source": [
    "#21. Write a Python program to get a list, sorted in increasing order by the last element in each tuple from a given list of non-empty tuples.\n",
    "#Sample List : [(2, 5), (1, 2), (4, 4), (2, 3), (2, 1)]\n",
    "#Expected Result : [(2, 1), (1, 2), (2, 3), (4, 4), (2, 5)]\n",
    "\n",
    "def Sortingbyindex(v):  \n",
    "    return(sorted(v, key = lambda x: x[1]))   \n",
    "      \n",
    "print(Sortingbyindex([(2, 5), (1, 2), (4, 4), (2, 3), (2, 1)]))  \n"
   ]
  },
  {
   "cell_type": "code",
   "execution_count": 40,
   "metadata": {},
   "outputs": [
    {
     "name": "stdout",
     "output_type": "stream",
     "text": [
      "[2, 1, 3, 4, 5]\n"
     ]
    }
   ],
   "source": [
    "#22. Write a Python program to remove duplicates from a list.\n",
    "\n",
    "def newlist(a):\n",
    "    b=[]\n",
    "    for i in a:\n",
    "        if i not in b:\n",
    "            b.append(i)\n",
    "    return b\n",
    "\n",
    "\n",
    "print(newlist([2,1,2,3,3,3,3,4,4,5,1]))\n",
    "\n"
   ]
  },
  {
   "cell_type": "code",
   "execution_count": 143,
   "metadata": {},
   "outputs": [
    {
     "name": "stdout",
     "output_type": "stream",
     "text": [
      "Empty\n"
     ]
    }
   ],
   "source": [
    "#23. Write a Python program to check a list is empty or not.\n",
    "\n",
    "def check(a):\n",
    "    if len(a)==0:\n",
    "      print('Empty')\n",
    "    else:\n",
    "      print('Not empty')\n",
    "    \n",
    "check([])    \n",
    "\n"
   ]
  },
  {
   "cell_type": "code",
   "execution_count": 42,
   "metadata": {},
   "outputs": [
    {
     "name": "stdout",
     "output_type": "stream",
     "text": [
      "[1, 2, 4, 5, 8, 4]\n",
      "[1, 2, 4, 5, 8, 4]\n"
     ]
    }
   ],
   "source": [
    "#24. Write a Python program to clone or copy a list.\n",
    "\n",
    "v=[1,2,4,5,8,4]\n",
    "b=v.copy()\n",
    "\n",
    "print(v)\n",
    "print(b)"
   ]
  },
  {
   "cell_type": "code",
   "execution_count": 43,
   "metadata": {},
   "outputs": [
    {
     "data": {
      "text/plain": [
       "False"
      ]
     },
     "execution_count": 43,
     "metadata": {},
     "output_type": "execute_result"
    }
   ],
   "source": [
    "#25. Write a Python program to check whether all dictionaries in a list are empty or not.\n",
    "\n",
    "l = [{1,2},{},{}]\n",
    "all( len(d) == 0 for d in l) #is empty?\n"
   ]
  },
  {
   "cell_type": "code",
   "execution_count": 44,
   "metadata": {},
   "outputs": [
    {
     "name": "stdout",
     "output_type": "stream",
     "text": [
      "['emp1', 'emp2', 'emp3', 'emp4']\n"
     ]
    }
   ],
   "source": [
    "#26. Write a Python program to insert a given string at the beginning of all items in a list.\n",
    "\n",
    "#Sample list : [1,2,3,4], string : emp\n",
    "#Expected output : ['emp1', 'emp2', 'emp3', 'emp4']\n",
    "\n",
    "def append(a, str1): \n",
    "      \n",
    "    str1= str1+'{0}'\n",
    "    a = [str1.format(i) for i in a] \n",
    "    return(a) \n",
    "  \n",
    "a = [1, 2, 3, 4] \n",
    "str1 = 'emp'\n",
    "print(append(a, str1)) \n",
    "\n",
    "\n",
    "\n",
    "\n",
    "#list= [1,2,3,4]\n",
    "#print(['emp{0}'.format(i) for i in  list]) #add emp in index0\n",
    "\n"
   ]
  },
  {
   "cell_type": "code",
   "execution_count": 45,
   "metadata": {},
   "outputs": [
    {
     "name": "stdout",
     "output_type": "stream",
     "text": [
      "[1, 3, 5, 7, 9, 2, 4, 6, 8]\n"
     ]
    }
   ],
   "source": [
    "#27. Write a Python program to replace the last element in a list with another list.\n",
    "#Sample data : [1, 3, 5, 7, 9, 10], [2, 4, 6, 8]\n",
    "#Expected Output: [1, 3, 5, 7, 9, 2, 4, 6, 8]\n",
    "\n",
    "def replace(l1, l2):\n",
    "     l1[-1:] = l2    \n",
    "     return l1  \n",
    "        \n",
    "l1= [1, 3, 5, 7, 9, 10]\n",
    "l2= [2, 4, 6, 8]\n",
    "print(replace(l1, l2)) \n",
    "       "
   ]
  },
  {
   "cell_type": "code",
   "execution_count": 46,
   "metadata": {},
   "outputs": [
    {
     "name": "stdout",
     "output_type": "stream",
     "text": [
      "{0: 10, 1: 20, 2: 30}\n"
     ]
    }
   ],
   "source": [
    "#28. Write a Python script to add a key to a dictionary.\n",
    "#Sample Dictionary : {0: 10, 1: 20}\n",
    "#Expected Result : {0: 10, 1: 20, 2: 30}\n",
    "\n",
    "\n",
    "dir={0: 10, 1: 20}\n",
    "dir[2]=30\n",
    "print(dir)"
   ]
  },
  {
   "cell_type": "code",
   "execution_count": 47,
   "metadata": {},
   "outputs": [
    {
     "name": "stdout",
     "output_type": "stream",
     "text": [
      "{1: 10, 2: 20, 3: 30, 4: 40, 5: 50, 6: 60}\n"
     ]
    }
   ],
   "source": [
    "#29. Write a Python script to concatenate following dictionaries to create a new one.\n",
    "#Sample Dictionary :\n",
    "#dic1={1:10, 2:20}\n",
    "#dic2={3:30, 4:40}\n",
    "#dic3={5:50,6:60}\n",
    "#Expected Result : {1: 10, 2: 20, 3: 30, 4: 40, 5: 50, 6: 60}\n",
    "\n",
    "dic1={1:10, 2:20}\n",
    "dic2={3:30, 4:40}\n",
    "dic3={5:50,6:60}\n",
    "dic = {}\n",
    "for d in (dic1, dic2, dic3): dic.update(d)\n",
    "print(dic)\n"
   ]
  },
  {
   "cell_type": "code",
   "execution_count": 48,
   "metadata": {},
   "outputs": [
    {
     "name": "stdout",
     "output_type": "stream",
     "text": [
      "Enter the key:1\n",
      "True\n"
     ]
    }
   ],
   "source": [
    "#30. Write a Python script to check whether a given key already exists in a dictionary.\n",
    "\n",
    "def check(dic):\n",
    "    return( a in dic)\n",
    "\n",
    "a=int(input(\"Enter the key:\"))\n",
    "dic={1: 10, 2: 20, 3: 30, 4: 40, 5: 50, 6: 60}\n",
    "print(check(dic))\n",
    "\n"
   ]
  },
  {
   "cell_type": "code",
   "execution_count": 49,
   "metadata": {},
   "outputs": [
    {
     "name": "stdout",
     "output_type": "stream",
     "text": [
      "Red corresponds to  1\n",
      "Green corresponds to  2\n",
      "Blue corresponds to  3\n"
     ]
    }
   ],
   "source": [
    "#31. Write a Python program to iterate over dictionaries using for loops.\n",
    "\n",
    "d = {'Red': 1, 'Green': 2, 'Blue': 3} \n",
    "\n",
    "for color_key, value in d.items():\n",
    "     print(color_key, 'corresponds to ', d[color_key]) \n",
    "\n"
   ]
  },
  {
   "cell_type": "code",
   "execution_count": 50,
   "metadata": {},
   "outputs": [
    {
     "name": "stdout",
     "output_type": "stream",
     "text": [
      "{1: 1, 2: 4, 3: 9, 4: 16, 5: 25}\n"
     ]
    }
   ],
   "source": [
    "#Write a Python script to generate and print a dictionary that contains a number (between 1 and n) in the form (x, x*x).\n",
    "#Sample Dictionary ( n = 5) :\n",
    "#Expected Output : {1: 1, 2: 4, 3: 9, 4: 16, 5: 25}\n",
    "\n",
    "def gen(n):\n",
    "    d = dict()\n",
    "    for x in range(1,n+1):\n",
    "        d[x]=x*x\n",
    "    return d\n",
    "    \n",
    "print(gen(5))  \n"
   ]
  },
  {
   "cell_type": "code",
   "execution_count": 51,
   "metadata": {},
   "outputs": [
    {
     "name": "stdout",
     "output_type": "stream",
     "text": [
      "{1: 1, 2: 4, 3: 9, 4: 16, 5: 25, 6: 36, 7: 49, 8: 64, 9: 81, 10: 100, 11: 121, 12: 144, 13: 169, 14: 196, 15: 225}\n"
     ]
    }
   ],
   "source": [
    "#33. Write a Python script to print a dictionary where the keys are numbers between 1 and 15 (both included) and the values are square of keys\n",
    "\n",
    "#Sample Dictionary: {1: 1, 2: 4, 3: 9, 4: 16, 5: 25, 6: 36, 7: 49, 8: 64, 9: 81, 10: 100, 11: 121, 12: 144, 13: 169, 14: 196, 15: 225}\n",
    "\n",
    "\n",
    "d={}\n",
    "for x in range(1,16):\n",
    "    d[x]=x**2\n",
    "print(d)  \n",
    " "
   ]
  },
  {
   "cell_type": "code",
   "execution_count": 61,
   "metadata": {},
   "outputs": [
    {
     "name": "stdout",
     "output_type": "stream",
     "text": [
      "{'a': 10, 'b': 20, 'c': 30, 'd': 40}\n"
     ]
    }
   ],
   "source": [
    "#34. Write a Python script to merge two Python dictionaries.\n",
    "\n",
    "dict1 = {'a': 10, 'b': 20}\n",
    "dict2 = {'c': 30, 'd': 40}\n",
    "d.update(dict2)\n",
    "print(d)\n"
   ]
  },
  {
   "cell_type": "code",
   "execution_count": 64,
   "metadata": {},
   "outputs": [
    {
     "name": "stdout",
     "output_type": "stream",
     "text": [
      "130\n"
     ]
    }
   ],
   "source": [
    "#36. Write a Python program to sum all the items in a dictionary.\n",
    "\n",
    "dict1 = {'pen': 10, 'pencil': 20,'copy':100}\n",
    "dict2= sum(dict1.values())\n",
    "print(dict2)\n"
   ]
  },
  {
   "cell_type": "code",
   "execution_count": 82,
   "metadata": {},
   "outputs": [
    {
     "name": "stdout",
     "output_type": "stream",
     "text": [
      "20000\n"
     ]
    }
   ],
   "source": [
    "#37. Write a Python program to multiply all the items in a dictionary.\n",
    "\n",
    "In_dict = {'pen': 10, 'pencil': 20,'copy':100}\n",
    "\n",
    "total = 1\n",
    "\n",
    "for key in In_dict:\n",
    "    total = total * In_dict[key]\n",
    "    \n",
    "print(total)"
   ]
  },
  {
   "cell_type": "code",
   "execution_count": 89,
   "metadata": {},
   "outputs": [
    {
     "name": "stdout",
     "output_type": "stream",
     "text": [
      "{'pen': 10, 'copy': 100}\n"
     ]
    }
   ],
   "source": [
    "#38. Write a Python program to remove a key from a dictionary.\n",
    "\n",
    "dict1 = {'pen': 10, 'pencil': 20,'copy':100}\n",
    "after_dic= dict1.pop('pencil')\n",
    "print(dict1)\n"
   ]
  },
  {
   "cell_type": "code",
   "execution_count": 93,
   "metadata": {},
   "outputs": [
    {
     "name": "stdout",
     "output_type": "stream",
     "text": [
      "Sapana\n",
      "Writer\n",
      "22\n"
     ]
    }
   ],
   "source": [
    "#39. Write a Python program to unpack a tuple in several variables.\n",
    "\n",
    "IW=('Sapana','Writer',22)\n",
    "name, profession, age =IW\n",
    "print(name)\n",
    "print(profession)\n",
    "print(age)"
   ]
  },
  {
   "cell_type": "code",
   "execution_count": 131,
   "metadata": {},
   "outputs": [
    {
     "name": "stdout",
     "output_type": "stream",
     "text": [
      "10\n"
     ]
    }
   ],
   "source": [
    "#40. Write a Python program to add an item in a tuple.\n",
    "\n",
    "tuple1={1,2,3,4}\n",
    "print(sum(tuple1))"
   ]
  },
  {
   "cell_type": "code",
   "execution_count": 112,
   "metadata": {},
   "outputs": [
    {
     "name": "stdout",
     "output_type": "stream",
     "text": [
      "sapana10\n"
     ]
    }
   ],
   "source": [
    "#41. Write a Python program to convert a tuple to a string.\n",
    "\n",
    "def convertT_S(tuple): \n",
    "    str =  ''.join(tuple) \n",
    "    return str\n",
    "  \n",
    "tuple = ('s', 'a', 'p', 'a', 'n','a','1','0') \n",
    "str = convertT_S(tuple) \n",
    "print(str)\n",
    "\n"
   ]
  },
  {
   "cell_type": "code",
   "execution_count": 21,
   "metadata": {},
   "outputs": [
    {
     "name": "stdout",
     "output_type": "stream",
     "text": [
      "[1, 2, 3, 4, 5, 6, 80]\n",
      "<class 'list'>\n",
      "(1, 2, 3, 4, 5, 6, 80)\n",
      "<class 'tuple'>\n"
     ]
    }
   ],
   "source": [
    "#42. Write a Python program to convert a list to a tuple.\n",
    "\n",
    "l=[1,2,3,4,5,6,80] #type list\n",
    "print(l)\n",
    "tup=tuple(l) \n",
    "print(type(l))# to type tuple\n",
    "\n",
    "print(tup)\n",
    "print(type(tup))"
   ]
  },
  {
   "cell_type": "code",
   "execution_count": 25,
   "metadata": {},
   "outputs": [
    {
     "name": "stdout",
     "output_type": "stream",
     "text": [
      "('1', '2', '3', 'Hello', 'saffron')\n",
      "('1', '3', 'Hello', 'saffron')\n"
     ]
    }
   ],
   "source": [
    "#43. Write a Python program to remove an item from a tuple.\n",
    "\n",
    "tup=('1','2','3','Hello','saffron') \n",
    "print(tup)\n",
    "l=list(tup)\n",
    "l.remove('2')\n",
    "tup=tuple(l)\n",
    "print(tup)"
   ]
  },
  {
   "cell_type": "code",
   "execution_count": 118,
   "metadata": {},
   "outputs": [
    {
     "name": "stdout",
     "output_type": "stream",
     "text": [
      "(3, 5, 4, 6)\n"
     ]
    }
   ],
   "source": [
    "#44. Write a Python program to slice a tuple.\n",
    "\n",
    "\n",
    "tup = (1,2,3,4,5,6,7)\n",
    "\n",
    "slice_tup = tuplex[2:6]\n",
    "\n",
    "print(slice_tup)\n"
   ]
  },
  {
   "cell_type": "code",
   "execution_count": 32,
   "metadata": {},
   "outputs": [
    {
     "name": "stdout",
     "output_type": "stream",
     "text": [
      "('i', 'n', 'd', 'e', 'x', ' ', 't', 'u', 'p', 'l', 'e')\n",
      "8\n",
      "8\n"
     ]
    }
   ],
   "source": [
    "# 45.Write a Python program to find the index of an item of a tuple.\n",
    "\n",
    "#create a tuple\n",
    "tuplex = tuple(\"index tuple\")\n",
    "print(tuplex)\n",
    "\n",
    "index = tuplex.index(\"p\")\n",
    "print(index)\n",
    "\n",
    "index = tuplex.index(\"p\", 5)\n",
    "print(index)\n",
    "\n"
   ]
  },
  {
   "cell_type": "code",
   "execution_count": 16,
   "metadata": {},
   "outputs": [
    {
     "name": "stdout",
     "output_type": "stream",
     "text": [
      "('1', '2', '3', 'saffron')\n",
      "4\n"
     ]
    }
   ],
   "source": [
    "#46. Write a Python program to find the length of a tuple.\n",
    "\n",
    "\n",
    "tup=('1','2','3','saffron')\n",
    "print(tup)\n",
    "\n",
    "print(len(tup))\n"
   ]
  }
 ],
 "metadata": {
  "kernelspec": {
   "display_name": "Python 3",
   "language": "python",
   "name": "python3"
  },
  "language_info": {
   "codemirror_mode": {
    "name": "ipython",
    "version": 3
   },
   "file_extension": ".py",
   "mimetype": "text/x-python",
   "name": "python",
   "nbconvert_exporter": "python",
   "pygments_lexer": "ipython3",
   "version": "3.6.4"
  }
 },
 "nbformat": 4,
 "nbformat_minor": 2
}
