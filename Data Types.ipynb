{
 "cells": [
  {
   "cell_type": "code",
   "execution_count": 61,
   "metadata": {},
   "outputs": [
    {
     "name": "stdout",
     "output_type": "stream",
     "text": [
      " {'g': 2, 'o': 3, 'l': 1, 'e': 1, '.': 1, 'c': 1, 'm': 1}\n"
     ]
    }
   ],
   "source": [
    "char1= \"google.com\"\n",
    "counts={}\n",
    "\n",
    "for i in char1:\n",
    "    if i in counts:\n",
    "        counts[i]+=1\n",
    "    else:\n",
    "        counts[i]=1\n",
    "        \n",
    "print (\" {}\".format(str(counts)))"
   ]
  },
  {
   "cell_type": "code",
   "execution_count": 62,
   "metadata": {},
   "outputs": [
    {
     "name": "stdout",
     "output_type": "stream",
     "text": [
      "pyon\n"
     ]
    }
   ],
   "source": [
    "msg= \"python\"\n",
    "\n",
    "for l in {msg}:\n",
    "    if len(msg)>=2:   \n",
    "     print(msg[0:2:1]+msg[-2::])\n",
    "    else: \n",
    "     print(\"\")\n",
    "   \n",
    "    "
   ]
  },
  {
   "cell_type": "code",
   "execution_count": 106,
   "metadata": {
    "scrolled": true
   },
   "outputs": [
    {
     "name": "stdout",
     "output_type": "stream",
     "text": [
      "tres$ar$\n"
     ]
    }
   ],
   "source": [
    "def updatedstr(str1): \n",
    "  char1 = str1[0]     \n",
    "  str1 = str1.replace(char1, '$') \n",
    "  str1 = char1 + str1[1:]\n",
    "\n",
    "  return str1\n",
    "\n",
    "print(updatedstr('trestart'))\n",
    "\n",
    " "
   ]
  },
  {
   "cell_type": "code",
   "execution_count": 129,
   "metadata": {},
   "outputs": [
    {
     "name": "stdout",
     "output_type": "stream",
     "text": [
      "xyc abz\n"
     ]
    }
   ],
   "source": [
    "def inputstr(x,y):\n",
    "  swaped_x= y[:2] + x[2:] # xyc\n",
    "  swaped_y= x[:2] + y[2:] # abz\n",
    "    \n",
    "  return swaped_x+ ' '+ swaped_y\n",
    "\n",
    "print(inputstr('abc', 'xyz'))"
   ]
  },
  {
   "cell_type": "code",
   "execution_count": 157,
   "metadata": {},
   "outputs": [
    {
     "name": "stdout",
     "output_type": "stream",
     "text": [
      "Annoyingly\n"
     ]
    }
   ],
   "source": [
    "str1=\"Annoying\"\n",
    "a=\"ing\"\n",
    "b=\"ly\"\n",
    "\n",
    "\n",
    "if len(str1)>=3:\n",
    "    if str1[-3:]== a:\n",
    "        print(str1 + b)\n",
    "    else:\n",
    "        print(str1 + a) \n",
    "else: \n",
    "        print({str1})"
   ]
  },
  {
   "cell_type": "code",
   "execution_count": 264,
   "metadata": {},
   "outputs": [
    {
     "name": "stdout",
     "output_type": "stream",
     "text": [
      "His performance was good!\n",
      "His performance was poor!\n"
     ]
    }
   ],
   "source": [
    "def output(str1):\n",
    "  a= str1.find('not') #20\n",
    "  b= str1.find('poor') #29\n",
    "  c='good'\n",
    "\n",
    "\n",
    "  if b > a and a>0 and b>0:   \n",
    "    str1 = str1.replace(str1[a:(b+4)], c)\n",
    "    return str1\n",
    "  else:\n",
    "    return str1   \n",
    "print(output('His performance was not that poor!'))\n",
    "print(output('His performance was poor!'))\n",
    "    \n",
    "    "
   ]
  },
  {
   "cell_type": "code",
   "execution_count": 266,
   "metadata": {},
   "outputs": [
    {
     "data": {
      "text/plain": [
       "3"
      ]
     },
     "execution_count": 266,
     "metadata": {},
     "output_type": "execute_result"
    }
   ],
   "source": [
    "str1=\"His performance was not that poor\"\n",
    "str1=str1.split()\n",
    "len(str1)\n",
    "len(str1[0])\n"
   ]
  },
  {
   "cell_type": "code",
   "execution_count": 307,
   "metadata": {},
   "outputs": [
    {
     "name": "stdout",
     "output_type": "stream",
     "text": [
      "11\n"
     ]
    }
   ],
   "source": [
    "def longest(str1): \n",
    "      \n",
    "    length = 0\n",
    "    str2=str1.split()\n",
    "      \n",
    "   \n",
    "    for i in str2: \n",
    "        if(len(i) > length): \n",
    "            length = len(i) \n",
    "      \n",
    "    return length  \n",
    "  \n",
    "str1= 'His performance was not that poor'\n",
    "print(longest(str1)) \n",
    "  "
   ]
  },
  {
   "cell_type": "code",
   "execution_count": 329,
   "metadata": {},
   "outputs": [
    {
     "name": "stdout",
     "output_type": "stream",
     "text": [
      "peform\n"
     ]
    }
   ],
   "source": [
    "def remove(str1, n):\n",
    "    \n",
    "      c = str1[:n] \n",
    "      d = str1[n+1:]\n",
    "    \n",
    "      return c + d\n",
    "print(remove('perform', 2))"
   ]
  },
  {
   "cell_type": "code",
   "execution_count": 337,
   "metadata": {},
   "outputs": [
    {
     "name": "stdout",
     "output_type": "stream",
     "text": [
      "aapans\n"
     ]
    }
   ],
   "source": [
    "#Write a Python program to change a given string to a new string where the first and last chars have been exchanged.\n",
    "\n",
    "def swapped(str1):\n",
    "    a=str1[0] #s\n",
    "    b=str1[-1] #a\n",
    "   \n",
    "    str1= b+ str1[1:-1]+ a #aapans\n",
    "    \n",
    "    return str1\n",
    "\n",
    "print(swapped('sapana'))    \n",
    "    \n"
   ]
  },
  {
   "cell_type": "code",
   "execution_count": 383,
   "metadata": {},
   "outputs": [
    {
     "name": "stdout",
     "output_type": "stream",
     "text": [
      "promne\n"
     ]
    }
   ],
   "source": [
    "#Write a Python program to remove the characters which have odd index values of a given string.\n",
    "\n",
    "def outcome(str1):\n",
    "  result = ''\n",
    "  for i in range(len(str1)):\n",
    "    if i % 2 == 0:\n",
    "      result = result + str1[i]\n",
    "  return result\n",
    "\n",
    "\n",
    "print(outcome('performance'))\n"
   ]
  },
  {
   "cell_type": "code",
   "execution_count": null,
   "metadata": {},
   "outputs": [],
   "source": []
  }
 ],
 "metadata": {
  "kernelspec": {
   "display_name": "Python 3",
   "language": "python",
   "name": "python3"
  },
  "language_info": {
   "codemirror_mode": {
    "name": "ipython",
    "version": 3
   },
   "file_extension": ".py",
   "mimetype": "text/x-python",
   "name": "python",
   "nbconvert_exporter": "python",
   "pygments_lexer": "ipython3",
   "version": "3.6.4"
  }
 },
 "nbformat": 4,
 "nbformat_minor": 2
}
