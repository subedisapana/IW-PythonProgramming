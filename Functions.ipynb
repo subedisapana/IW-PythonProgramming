{
 "cells": [
  {
   "cell_type": "code",
   "execution_count": 1,
   "metadata": {},
   "outputs": [
    {
     "name": "stdout",
     "output_type": "stream",
     "text": [
      "90\n"
     ]
    }
   ],
   "source": [
    "#1. Write a Python function to find the Max of three numbers.\n",
    "\n",
    "def max(a,b,c):\n",
    "    \n",
    "    if a>b and a>c:\n",
    "        return a\n",
    "    if b>a and b>c:\n",
    "        return b\n",
    "    else:\n",
    "        return c\n",
    "\n",
    "    \n",
    "print(max(20,90,10))"
   ]
  },
  {
   "cell_type": "code",
   "execution_count": 2,
   "metadata": {},
   "outputs": [
    {
     "name": "stdout",
     "output_type": "stream",
     "text": [
      "20\n"
     ]
    }
   ],
   "source": [
    "#2. Write a Python function to sum all the numbers in a list.\n",
    "#Sample List : (8, 2, 3, 0, 7)\n",
    "#Expected Output : 20\n",
    "\n",
    "\n",
    "def sum(a):\n",
    "    total=0\n",
    "    for i in a:\n",
    "        total=total+i\n",
    "    return total\n",
    "print(sum([8,2,3,0,7]) )   "
   ]
  },
  {
   "cell_type": "code",
   "execution_count": 3,
   "metadata": {},
   "outputs": [
    {
     "name": "stdout",
     "output_type": "stream",
     "text": [
      "-336\n"
     ]
    }
   ],
   "source": [
    "#3. Write a Python function to multiply all the numbers in a list.\n",
    "#Sample List : (8, 2, 3, -1, 7)\n",
    "#Expected Output : -336\n",
    "\n",
    "\n",
    "def multiply(a):\n",
    "    total=1\n",
    "    for i in a:\n",
    "        total=total*i\n",
    "    return total\n",
    "print(multiply([8,2,3,-1,7]) )   "
   ]
  },
  {
   "cell_type": "code",
   "execution_count": 4,
   "metadata": {},
   "outputs": [
    {
     "name": "stdout",
     "output_type": "stream",
     "text": [
      "dcba4321\n"
     ]
    }
   ],
   "source": [
    "#4. Write a Python program to reverse a string.\n",
    "#Sample String : \"1234abcd\"\n",
    "#Expected Output : \"dcba4321\"\n",
    "\n",
    "\n",
    "def rev(str1):\n",
    "    \n",
    "    str1=str1[-1::-1]\n",
    "    \n",
    "    return str1\n",
    "    \n",
    "print(rev(\"1234abcd\"))\n"
   ]
  },
  {
   "cell_type": "code",
   "execution_count": 5,
   "metadata": {},
   "outputs": [
    {
     "name": "stdout",
     "output_type": "stream",
     "text": [
      "120\n"
     ]
    }
   ],
   "source": [
    "\n",
    "#5. Write a Python function to calculate the factorial of a number (a non-negative integer). The function accepts the number as an argument.\n",
    "\n",
    "def factorial(n):\n",
    "    factor=1\n",
    "    \n",
    "    for i in range(1, n+1):\n",
    "        factor= factor*i\n",
    "    return factor\n",
    "\n",
    "print(factorial(5))\n"
   ]
  },
  {
   "cell_type": "code",
   "execution_count": 6,
   "metadata": {},
   "outputs": [
    {
     "name": "stdout",
     "output_type": "stream",
     "text": [
      "not in range\n"
     ]
    }
   ],
   "source": [
    "#6. Write a Python function to check whether a number is in a given range.\n",
    "\n",
    "def range_check(a):\n",
    "        if a in range(1,10):\n",
    "            print(\"in range \")\n",
    "        else:\n",
    "            print(\"not in range\")\n",
    "range_check(0)\n",
    "\n",
    "\n",
    "\n"
   ]
  },
  {
   "cell_type": "code",
   "execution_count": 7,
   "metadata": {},
   "outputs": [
    {
     "name": "stdout",
     "output_type": "stream",
     "text": [
      "Original String :  The quick Brow Fox\n",
      "No. of Upper case characters :  3\n",
      "No. of Lower case Characters :  12\n"
     ]
    }
   ],
   "source": [
    "#7. Write a Python function that accepts a string and calculate the number of upper case letters and lower case letters.\n",
    "#Sample String : 'The quick Brow Fox'\n",
    "#Expected Output :\n",
    "#No. of Upper case characters : 3\n",
    "#No. of Lower case Characters : 12\n",
    "\n",
    "\n",
    "\n",
    "def calculateUL(a):\n",
    "    uppercase=0\n",
    "    lowercase=0\n",
    "    \n",
    "    for i in a:\n",
    "        if i.isupper():\n",
    "            uppercase += 1\n",
    "        elif i.islower():\n",
    "            lowercase+= 1\n",
    "        else:\n",
    "             pass\n",
    "    print (\"Original String : \", a)        \n",
    "    print (\"No. of Upper case characters : \", uppercase)\n",
    "    print (\"No. of Lower case Characters : \", lowercase ) \n",
    "\n",
    "calculateUL(\"The quick Brow Fox\")\n"
   ]
  },
  {
   "cell_type": "code",
   "execution_count": 8,
   "metadata": {},
   "outputs": [
    {
     "name": "stdout",
     "output_type": "stream",
     "text": [
      "[1, 2, 3, 4, 5]\n"
     ]
    }
   ],
   "source": [
    "#8. Write a Python function that takes a list and returns a new list with unique elements of the first list.\n",
    "#Sample List : [1,2,3,3,3,3,4,5]\n",
    "#Unique List : [1, 2, 3, 4, 5]\n",
    "\n",
    "\n",
    "\n",
    "def newlist(a):\n",
    "    b = []\n",
    "    for i in a:\n",
    "        if i not in b:\n",
    "            b.append(i)\n",
    "    return b\n",
    "\n",
    "\n",
    "print(newlist([1,2,3,3,3,3,4,4,5]))\n",
    "\n",
    "\n"
   ]
  },
  {
   "cell_type": "code",
   "execution_count": 9,
   "metadata": {},
   "outputs": [
    {
     "name": "stdout",
     "output_type": "stream",
     "text": [
      "False\n"
     ]
    }
   ],
   "source": [
    "#9. Write a Python function that takes a number as a parameter and check the number is prime or not.\n",
    "#Note : A prime number (or a prime) is a natural number greater than 1 and that has no positive divisors other than 1 and itself.\n",
    "\n",
    "def check_prime(a):\n",
    "    if (a==1):\n",
    "        return False\n",
    "    elif (a==2):\n",
    "        return True;\n",
    "    else:\n",
    "        for i in range(2,a):\n",
    "            if(a % i==0):\n",
    "                return False\n",
    "        return True             \n",
    "print(check_prime(9))\n",
    "\n"
   ]
  },
  {
   "cell_type": "code",
   "execution_count": 10,
   "metadata": {},
   "outputs": [
    {
     "name": "stdout",
     "output_type": "stream",
     "text": [
      "2,4,6,8,"
     ]
    }
   ],
   "source": [
    "#10. Write a Python program to print the even numbers from a given list.\n",
    "#Sample List : [1, 2, 3, 4, 5, 6, 7, 8, 9]\n",
    "#Expected Result : [2, 4, 6, 8]\n",
    "\n",
    "def even(a):\n",
    "    i=[]\n",
    "    for i in a:\n",
    "        if i % 2 == 0: \n",
    "            print(i, end=',')\n",
    "                   \n",
    "even([1, 2, 3, 4, 5, 6, 7, 8, 9])            "
   ]
  },
  {
   "cell_type": "code",
   "execution_count": 11,
   "metadata": {},
   "outputs": [
    {
     "name": "stdout",
     "output_type": "stream",
     "text": [
      "20\n",
      "10\n"
     ]
    }
   ],
   "source": [
    "#11. Write a Python program to create a lambda function that adds 15 to a given number passed in as an argument, also create a lambda function that multiplies argument x with argument y and print the result.\n",
    "\n",
    "l = lambda a : a + 15\n",
    "print(l(5))\n",
    "\n",
    "m = lambda x, y : x * y\n",
    "print(m(2, 5))\n"
   ]
  },
  {
   "cell_type": "code",
   "execution_count": 12,
   "metadata": {},
   "outputs": [
    {
     "name": "stdout",
     "output_type": "stream",
     "text": [
      "15\n"
     ]
    }
   ],
   "source": [
    "#12. Write a Python program to create a function that takes one argument, and that argument will be multiplied with an unknown given number.\n",
    "\n",
    "l = lambda a : a * 15\n",
    "print(l(1))\n"
   ]
  },
  {
   "cell_type": "code",
   "execution_count": 13,
   "metadata": {},
   "outputs": [
    {
     "name": "stdout",
     "output_type": "stream",
     "text": [
      "Sorting the list of tuples:\n",
      "[(2, 1), (1, 2), (2, 3), (4, 4), (2, 5)]\n"
     ]
    }
   ],
   "source": [
    "#13. Write a Python program to sort a list of tuples using Lambda.\n",
    "\n",
    "a = [(2, 5), (1, 2), (4, 4), (2, 3), (2, 1)]\n",
    "a.sort(key = lambda x: x[1])\n",
    "print(\"Sorting the list of tuples:\")\n",
    "print(a)"
   ]
  },
  {
   "cell_type": "code",
   "execution_count": 14,
   "metadata": {},
   "outputs": [
    {
     "name": "stdout",
     "output_type": "stream",
     "text": [
      "[{'name': 'samjhana', 'Age': 22, 'Address': 'Kathmandu'}, {'name': 'sapana', 'Age': 22, 'Address': 'chitwan'}]\n"
     ]
    }
   ],
   "source": [
    "#14. Write a Python program to sort a list of dictionaries using Lambda.\n",
    "\n",
    "a = {'name':\"sapana\", \n",
    "      'Age': 22,\n",
    "    'Address': \"chitwan\"},{'name':\"samjhana\", 'Age': 22,'Address': \"Kathmandu\"}\n",
    "\n",
    "sorted_a= sorted(a, key = lambda x: x['name']) #sorted by name\n",
    "print(sorted_a)"
   ]
  },
  {
   "cell_type": "code",
   "execution_count": 15,
   "metadata": {},
   "outputs": [
    {
     "name": "stdout",
     "output_type": "stream",
     "text": [
      "[2, 4, 6]\n"
     ]
    }
   ],
   "source": [
    "#15. Write a Python program to filter a list of integers using Lambda.\n",
    "\n",
    "a = [1,2,3,4,5,6]\n",
    "even_a = list(filter(lambda x: x%2 == 0, a ))\n",
    "\n",
    "print(even_a)"
   ]
  },
  {
   "cell_type": "code",
   "execution_count": 26,
   "metadata": {},
   "outputs": [
    {
     "name": "stdout",
     "output_type": "stream",
     "text": [
      "[1, 4, 9, 16, 25]\n",
      "[1, 8, 27, 64, 125]\n"
     ]
    }
   ],
   "source": [
    "#16. Write a Python program to square and cube every number in a given list of integers using Lambda.\n",
    "\n",
    "\n",
    "a = [1, 2, 3, 4, 5]\n",
    "\n",
    "sqr_nums = list(map(lambda x: x ** 2, a))\n",
    "print(sqr_nums)\n",
    "\n",
    "cube_nums = list(map(lambda x: x ** 3, a))\n",
    "print(cube_nums)"
   ]
  },
  {
   "cell_type": "code",
   "execution_count": 17,
   "metadata": {},
   "outputs": [
    {
     "name": "stdout",
     "output_type": "stream",
     "text": [
      "False\n"
     ]
    }
   ],
   "source": [
    "#17. Write a Python program to find if a given string starts with a given character using Lambda.\n",
    "\n",
    "\n",
    "a = lambda i: True if i.startswith('b') else False\n",
    "print(a('Maths'))\n",
    "\n"
   ]
  },
  {
   "cell_type": "code",
   "execution_count": 24,
   "metadata": {},
   "outputs": [
    {
     "name": "stdout",
     "output_type": "stream",
     "text": [
      "input:''3\n",
      "True\n"
     ]
    }
   ],
   "source": [
    "#18. Write a Python program to check whether a given string is number or not using Lambda.\n",
    "\n",
    "str1=lambda x: True if a.isnumeric() else False\n",
    "a=input(\"input:\")\n",
    "b=str1(a)\n",
    "print(b)\n",
    "\n",
    "\n"
   ]
  },
  {
   "cell_type": "code",
   "execution_count": 22,
   "metadata": {},
   "outputs": [
    {
     "name": "stdout",
     "output_type": "stream",
     "text": [
      "[0, 1, 1, 2, 3]\n"
     ]
    }
   ],
   "source": [
    "#19. Write a Python program to create Fibonacci series upto n using Lambda.\n",
    "\n",
    "\n",
    "def fib_series(count): \n",
    "    list = [0, 1] \n",
    "  \n",
    "    any(map(lambda _: list.append(sum(list[-2:])), \n",
    "                                       range(2, count))) \n",
    "  \n",
    "    return list[:count] \n",
    "  \n",
    "print(fib_series(5)) "
   ]
  },
  {
   "cell_type": "code",
   "execution_count": 20,
   "metadata": {},
   "outputs": [
    {
     "name": "stdout",
     "output_type": "stream",
     "text": [
      "[1, 5, 9]\n"
     ]
    }
   ],
   "source": [
    "#20. Write a Python program to find intersection of two given arrays using Lambda.\n",
    "a=[1,2,4,5,9]\n",
    "b=[1,3,5,7,9]\n",
    "i=filter(lambda x: x in a,b)\n",
    "print(list(i))\n"
   ]
  }
 ],
 "metadata": {
  "kernelspec": {
   "display_name": "Python 3",
   "language": "python",
   "name": "python3"
  },
  "language_info": {
   "codemirror_mode": {
    "name": "ipython",
    "version": 3
   },
   "file_extension": ".py",
   "mimetype": "text/x-python",
   "name": "python",
   "nbconvert_exporter": "python",
   "pygments_lexer": "ipython3",
   "version": "3.6.4"
  }
 },
 "nbformat": 4,
 "nbformat_minor": 2
}
