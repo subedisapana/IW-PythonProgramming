{
 "cells": [
  {
   "cell_type": "code",
   "execution_count": 416,
   "metadata": {},
   "outputs": [
    {
     "name": "stdout",
     "output_type": "stream",
     "text": [
      "{'g': 2, 'o': 3, 'l': 1, 'e': 1, '.': 1, 'c': 1, 'm': 1}\n"
     ]
    }
   ],
   "source": [
    "def occurance(str1):\n",
    "    \n",
    "    counts = {}\n",
    "    for i in str1:\n",
    "        if i in counts:\n",
    "            counts[i] += 1\n",
    "        else:\n",
    "            counts[i] = 1\n",
    "    return counts\n",
    "\n",
    "print(occurance('google.com'))\n"
   ]
  },
  {
   "cell_type": "code",
   "execution_count": 395,
   "metadata": {},
   "outputs": [
    {
     "name": "stdout",
     "output_type": "stream",
     "text": [
      "pyon\n"
     ]
    }
   ],
   "source": [
    "msg= \"python\"\n",
    "\n",
    "for l in {msg}:\n",
    "    if len(msg)>=2:   \n",
    "     print(msg[0:2:1]+msg[-2::])\n",
    "    else: \n",
    "     print(\"\")\n",
    "   \n",
    "    "
   ]
  },
  {
   "cell_type": "code",
   "execution_count": 106,
   "metadata": {
    "scrolled": true
   },
   "outputs": [
    {
     "name": "stdout",
     "output_type": "stream",
     "text": [
      "tres$ar$\n"
     ]
    }
   ],
   "source": [
    "def updatedstr(str1): \n",
    "  char1 = str1[0]     \n",
    "  str1 = str1.replace(char1, '$') \n",
    "  str1 = char1 + str1[1:]\n",
    "\n",
    "  return str1\n",
    "\n",
    "print(updatedstr('trestart'))\n",
    "\n",
    " "
   ]
  },
  {
   "cell_type": "code",
   "execution_count": 129,
   "metadata": {},
   "outputs": [
    {
     "name": "stdout",
     "output_type": "stream",
     "text": [
      "xyc abz\n"
     ]
    }
   ],
   "source": [
    "def inputstr(x,y):\n",
    "  swaped_x= y[:2] + x[2:] # xyc\n",
    "  swaped_y= x[:2] + y[2:] # abz\n",
    "    \n",
    "  return swaped_x+ ' '+ swaped_y\n",
    "\n",
    "print(inputstr('abc', 'xyz'))"
   ]
  },
  {
   "cell_type": "code",
   "execution_count": 157,
   "metadata": {},
   "outputs": [
    {
     "name": "stdout",
     "output_type": "stream",
     "text": [
      "Annoyingly\n"
     ]
    }
   ],
   "source": [
    "str1=\"Annoying\"\n",
    "a=\"ing\"\n",
    "b=\"ly\"\n",
    "\n",
    "\n",
    "if len(str1)>=3:\n",
    "    if str1[-3:]== a:\n",
    "        print(str1 + b)\n",
    "    else:\n",
    "        print(str1 + a) \n",
    "else: \n",
    "        print({str1})"
   ]
  },
  {
   "cell_type": "code",
   "execution_count": 264,
   "metadata": {},
   "outputs": [
    {
     "name": "stdout",
     "output_type": "stream",
     "text": [
      "His performance was good!\n",
      "His performance was poor!\n"
     ]
    }
   ],
   "source": [
    "def output(str1):\n",
    "  a= str1.find('not') #20\n",
    "  b= str1.find('poor') #29\n",
    "  c='good'\n",
    "\n",
    "\n",
    "  if b > a and a>0 and b>0:   \n",
    "    str1 = str1.replace(str1[a:(b+4)], c)\n",
    "    return str1\n",
    "  else:\n",
    "    return str1   \n",
    "print(output('His performance was not that poor!'))\n",
    "print(output('His performance was poor!'))\n",
    "    \n",
    "    "
   ]
  },
  {
   "cell_type": "code",
   "execution_count": 384,
   "metadata": {},
   "outputs": [
    {
     "data": {
      "text/plain": [
       "'His'"
      ]
     },
     "execution_count": 384,
     "metadata": {},
     "output_type": "execute_result"
    }
   ],
   "source": [
    "str1=\"His performance was not that poor\"\n",
    "str1=str1.split()\n",
    "len(str1)\n",
    "len(str1[0])\n",
    "str1[0]\n"
   ]
  },
  {
   "cell_type": "code",
   "execution_count": 307,
   "metadata": {},
   "outputs": [
    {
     "name": "stdout",
     "output_type": "stream",
     "text": [
      "11\n"
     ]
    }
   ],
   "source": [
    "def longest(str1): \n",
    "      \n",
    "    length = 0\n",
    "    str2=str1.split()\n",
    "      \n",
    "   \n",
    "    for i in str2: \n",
    "        if(len(i) > length): \n",
    "            length = len(i) \n",
    "      \n",
    "    return length  \n",
    "  \n",
    "str1= 'His performance was not that poor'\n",
    "print(longest(str1)) \n",
    "  "
   ]
  },
  {
   "cell_type": "code",
   "execution_count": 329,
   "metadata": {},
   "outputs": [
    {
     "name": "stdout",
     "output_type": "stream",
     "text": [
      "peform\n"
     ]
    }
   ],
   "source": [
    "def remove(str1, n):\n",
    "    \n",
    "      c = str1[:n] \n",
    "      d = str1[n+1:]\n",
    "    \n",
    "      return c + d\n",
    "print(remove('perform', 2))"
   ]
  },
  {
   "cell_type": "code",
   "execution_count": 337,
   "metadata": {},
   "outputs": [
    {
     "name": "stdout",
     "output_type": "stream",
     "text": [
      "aapans\n"
     ]
    }
   ],
   "source": [
    "#Write a Python program to change a given string to a new string where the first and last chars have been exchanged.\n",
    "\n",
    "def swapped(str1):\n",
    "    a=str1[0] #s\n",
    "    b=str1[-1] #a\n",
    "   \n",
    "    str1= b+ str1[1:-1]+ a #aapans\n",
    "    \n",
    "    return str1\n",
    "\n",
    "print(swapped('sapana'))    \n",
    "    \n"
   ]
  },
  {
   "cell_type": "code",
   "execution_count": 383,
   "metadata": {},
   "outputs": [
    {
     "name": "stdout",
     "output_type": "stream",
     "text": [
      "promne\n"
     ]
    }
   ],
   "source": [
    "#Write a Python program to remove the characters which have odd index values of a given string.\n",
    "\n",
    "def outcome(str1):\n",
    "  result = ''\n",
    "  for i in range(len(str1)):\n",
    "    if i % 2 == 0:\n",
    "      result = result + str1[i]\n",
    "  return result\n",
    "\n",
    "\n",
    "print(outcome('performance'))\n"
   ]
  },
  {
   "cell_type": "code",
   "execution_count": 421,
   "metadata": {},
   "outputs": [
    {
     "name": "stdout",
     "output_type": "stream",
     "text": [
      "{'hello': 3, 'my': 2, 'name': 2, 'is': 2, '.': 1, 'how': 2, 'are': 2, 'you?': 1, 'you': 1}\n"
     ]
    }
   ],
   "source": [
    "#Write a Python program to count the occurrences of each word in a given sentence.\n",
    "\n",
    "def occurance(str1):\n",
    "    str1=str1.split()\n",
    "    counts = {}\n",
    "    for i in str1:\n",
    "        if i in counts:\n",
    "            counts[i] += 1\n",
    "        else:\n",
    "            counts[i] = 1\n",
    "    return counts\n",
    "print(occurance('hello my name is hello . how are you? my name is hello how are you'))\n"
   ]
  },
  {
   "cell_type": "code",
   "execution_count": 442,
   "metadata": {},
   "outputs": [
    {
     "name": "stdout",
     "output_type": "stream",
     "text": [
      "('sapana', 'SAPANA')\n"
     ]
    }
   ],
   "source": [
    "#Write a Python script that takes input from the user and displays that input back in upper and lower cases.\n",
    "\n",
    "def ulcases(str1):\n",
    "    \n",
    "    for i in str1:\n",
    "        a=str1.lower()\n",
    "        b=str1.upper()\n",
    "    return (a,b)\n",
    "    \n",
    "print(ulcases(\"SaPaNa\"))\n",
    "    "
   ]
  },
  {
   "cell_type": "code",
   "execution_count": 457,
   "metadata": {},
   "outputs": [
    {
     "name": "stdout",
     "output_type": "stream",
     "text": [
      "['is', 'my', 'name', 'sapana', 'subedi']\n"
     ]
    }
   ],
   "source": [
    "#13. Write a Python program that accepts a comma separated sequence of words as input and prints the unique words in sorted form (alphanumerically).\n",
    "\n",
    "str1=['my','name','is','sapana','subedi']\n",
    "\n",
    "print(sorted(str1))\n"
   ]
  },
  {
   "cell_type": "code",
   "execution_count": null,
   "metadata": {},
   "outputs": [],
   "source": [
    "#14. Write a Python function to create the HTML string with tags around the word(s).\n",
    "\n"
   ]
  },
  {
   "cell_type": "code",
   "execution_count": null,
   "metadata": {},
   "outputs": [],
   "source": [
    "#15.Write a Python function to insert a string in the middle of a string.\n",
    "Sample function and result :\n",
    "insert_sting_middle('[[]]<<>>', 'Python') -> [[Python]]\n",
    "insert_sting_middle('{{}}', 'PHP') -> {{PHP}}"
   ]
  },
  {
   "cell_type": "code",
   "execution_count": 463,
   "metadata": {},
   "outputs": [
    {
     "data": {
      "text/plain": [
       "257"
      ]
     },
     "execution_count": 463,
     "metadata": {},
     "output_type": "execute_result"
    }
   ],
   "source": [
    "#16. Write a Python program to sum all the items in a list.\n",
    "\n",
    "a=[1,2,5,6,9,2,21,67,90,54]\n",
    "sum(a)"
   ]
  },
  {
   "cell_type": "code",
   "execution_count": 466,
   "metadata": {},
   "outputs": [
    {
     "name": "stdout",
     "output_type": "stream",
     "text": [
      "1\n",
      "2\n",
      "10\n",
      "60\n",
      "540\n",
      "1080\n",
      "22680\n",
      "1519560\n",
      "136760400\n",
      "7385061600\n"
     ]
    }
   ],
   "source": [
    "# 17. Write a Python program to multiplies all the items in a list.\n",
    "\n",
    "a=[1,2,5,6,9,2,21,67,90,54]\n",
    "total=1\n",
    "for i in a:\n",
    "    total*=i\n",
    "    print(total)"
   ]
  },
  {
   "cell_type": "code",
   "execution_count": 471,
   "metadata": {},
   "outputs": [
    {
     "name": "stdout",
     "output_type": "stream",
     "text": [
      "7385061600\n"
     ]
    }
   ],
   "source": [
    "# 17. Write a Python program to multiplies all the items in a list.\n",
    "\n",
    "def total(a):\n",
    "    total=1\n",
    "    for i in a:\n",
    "        total=total*i\n",
    "    return total\n",
    "print(total([1,2,5,6,9,2,21,67,90,54]) )   "
   ]
  },
  {
   "cell_type": "code",
   "execution_count": 461,
   "metadata": {},
   "outputs": [
    {
     "name": "stdout",
     "output_type": "stream",
     "text": [
      "90\n"
     ]
    }
   ],
   "source": [
    "18. #Write a Python program to get the largest number from a list.\n",
    "\n",
    "a=[1,2,5,6,9,2,21,67,90,54]\n",
    "print(max(a))"
   ]
  },
  {
   "cell_type": "code",
   "execution_count": 462,
   "metadata": {},
   "outputs": [
    {
     "name": "stdout",
     "output_type": "stream",
     "text": [
      "1\n"
     ]
    }
   ],
   "source": [
    "#19. Write a Python program to get the smallest number from a list.\n",
    "\n",
    "a=[1,2,5,6,9,2,21,67,90,54]\n",
    "print(min(a))"
   ]
  },
  {
   "cell_type": "code",
   "execution_count": 520,
   "metadata": {},
   "outputs": [
    {
     "name": "stdout",
     "output_type": "stream",
     "text": [
      "3\n"
     ]
    }
   ],
   "source": [
    "#20. Write a Python program to count the number of strings where the string length is 2 or more and the first and last character are same from a given list of strings.\n",
    "#Sample List : ['abc', 'xyz', 'aba', '1221']\n",
    "#Expected Result : 2\n",
    "\n",
    "\n",
    "\n",
    "def timescount(str1):\n",
    "  counts = 0\n",
    "\n",
    "  for i in str1:\n",
    "    if len(i) > 1 and i[0] == i[-1]: #len of each string ie (3,3,3,4) & i[0]=abc & i[-1]=> each string ko 0 and -1 index\n",
    "      counts += 1\n",
    "  return counts\n",
    "\n",
    "print(timescount(['abc', 'xyz', 'aba', '1221', 'bbb']))"
   ]
  },
  {
   "cell_type": "code",
   "execution_count": null,
   "metadata": {},
   "outputs": [],
   "source": [
    "#21. Write a Python program to get a list, sorted in increasing order by the last element in each tuple from a given list of non-empty tuples.\n",
    "#Sample List : [(2, 5), (1, 2), (4, 4), (2, 3), (2, 1)]"
   ]
  },
  {
   "cell_type": "code",
   "execution_count": null,
   "metadata": {},
   "outputs": [],
   "source": []
  }
 ],
 "metadata": {
  "kernelspec": {
   "display_name": "Python 3",
   "language": "python",
   "name": "python3"
  },
  "language_info": {
   "codemirror_mode": {
    "name": "ipython",
    "version": 3
   },
   "file_extension": ".py",
   "mimetype": "text/x-python",
   "name": "python",
   "nbconvert_exporter": "python",
   "pygments_lexer": "ipython3",
   "version": "3.6.4"
  }
 },
 "nbformat": 4,
 "nbformat_minor": 2
}
