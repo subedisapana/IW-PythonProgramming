{
 "cells": [
  {
   "cell_type": "code",
   "execution_count": 604,
   "metadata": {},
   "outputs": [
    {
     "name": "stdout",
     "output_type": "stream",
     "text": [
      "{'g': 2, 'o': 3, 'l': 1, 'e': 1, '.': 1, 'c': 1, 'm': 1}\n"
     ]
    }
   ],
   "source": [
    "#1. Write a Python program to count the number of characters (characterfrequency) in a string. Sample String : google.com'\n",
    "\n",
    "def occurance(str1):\n",
    "    \n",
    "    counts = {}\n",
    "    for i in str1:\n",
    "        if i in counts:\n",
    "            counts[i] += 1\n",
    "        else:\n",
    "            counts[i] = 1\n",
    "    return counts\n",
    "     \n",
    "print(occurance('google.com'))\n"
   ]
  },
  {
   "cell_type": "code",
   "execution_count": 395,
   "metadata": {},
   "outputs": [
    {
     "name": "stdout",
     "output_type": "stream",
     "text": [
      "pyon\n"
     ]
    }
   ],
   "source": [
    "#2. Write a Python program to get a string made of the first 2 and the last 2 charsfrom a given a string. If the string length is less than 2, return instead of the empty string.\n",
    "\n",
    "msg= \"python\"\n",
    "\n",
    "for l in {msg}:\n",
    "    if len(msg)>=2:   \n",
    "     print(msg[0:2:1]+msg[-2::])\n",
    "    else: \n",
    "     print(\"\")\n",
    "   \n",
    "    "
   ]
  },
  {
   "cell_type": "code",
   "execution_count": 106,
   "metadata": {
    "scrolled": true
   },
   "outputs": [
    {
     "name": "stdout",
     "output_type": "stream",
     "text": [
      "tres$ar$\n"
     ]
    }
   ],
   "source": [
    "#3. Write a Python program to get a string from a given string where all occurrences of its first char have been changed to '$', except the first char itself.\n",
    "\n",
    "def updatedstr(str1): \n",
    "  char1 = str1[0]     \n",
    "  str1 = str1.replace(char1, '$') \n",
    "  str1 = char1 + str1[1:]\n",
    "\n",
    "  return str1\n",
    "\n",
    "print(updatedstr('trestart'))\n",
    "\n",
    " "
   ]
  },
  {
   "cell_type": "code",
   "execution_count": 129,
   "metadata": {},
   "outputs": [
    {
     "name": "stdout",
     "output_type": "stream",
     "text": [
      "xyc abz\n"
     ]
    }
   ],
   "source": [
    "#4. Write a Python program to get a single string from two given strings, separated by a space and swap the first two characters of each string.\n",
    "\n",
    "def inputstr(x,y):\n",
    "  swaped_x= y[:2] + x[2:] # xyc\n",
    "  swaped_y= x[:2] + y[2:] # abz\n",
    "    \n",
    "  return swaped_x+ ' '+ swaped_y\n",
    "\n",
    "print(inputstr('abc', 'xyz'))"
   ]
  },
  {
   "cell_type": "code",
   "execution_count": 157,
   "metadata": {},
   "outputs": [
    {
     "name": "stdout",
     "output_type": "stream",
     "text": [
      "Annoyingly\n"
     ]
    }
   ],
   "source": [
    "#5. Write a Python program to add 'ing' at the end of a given string (length should be at least 3). If the given string already ends with 'ing' then add 'ly' instead. If the string length of the given string is less than 3, leave it unchanged.\n",
    "\n",
    "str1=\"Annoying\"\n",
    "a=\"ing\"\n",
    "b=\"ly\"\n",
    "\n",
    "\n",
    "if len(str1)>=3:\n",
    "    if str1[-3:]== a:\n",
    "        print(str1 + b)\n",
    "    else:\n",
    "        print(str1 + a) \n",
    "else: \n",
    "        print({str1})"
   ]
  },
  {
   "cell_type": "code",
   "execution_count": 264,
   "metadata": {},
   "outputs": [
    {
     "name": "stdout",
     "output_type": "stream",
     "text": [
      "His performance was good!\n",
      "His performance was poor!\n"
     ]
    }
   ],
   "source": [
    "#6. Write a Python program to find the first appearance of the substring 'not' and 'poor' from a given string, if 'not' follows the 'poor', replace the whole 'not'...'poor' substring with 'good'. Return the resulting string.\n",
    "\n",
    "def output(str1):\n",
    "  a= str1.find('not') #20\n",
    "  b= str1.find('poor') #29\n",
    "  c='good'\n",
    "\n",
    "\n",
    "  if b > a and a>0 and b>0:   \n",
    "    str1 = str1.replace(str1[a:(b+4)], c)\n",
    "    return str1\n",
    "  else:\n",
    "    return str1   \n",
    "print(output('His performance was not that poor!'))\n",
    "print(output('His performance was poor!'))\n",
    "    \n",
    "    "
   ]
  },
  {
   "cell_type": "code",
   "execution_count": 384,
   "metadata": {},
   "outputs": [
    {
     "data": {
      "text/plain": [
       "'His'"
      ]
     },
     "execution_count": 384,
     "metadata": {},
     "output_type": "execute_result"
    }
   ],
   "source": [
    "str1=\"His performance was not that poor\"\n",
    "str1=str1.split()\n",
    "len(str1)\n",
    "len(str1[0])\n",
    "str1[0]\n"
   ]
  },
  {
   "cell_type": "code",
   "execution_count": 307,
   "metadata": {},
   "outputs": [
    {
     "name": "stdout",
     "output_type": "stream",
     "text": [
      "11\n"
     ]
    }
   ],
   "source": [
    "#7. Write a Python function that takes a list of words and returns the length of the longest one.\n",
    "\n",
    "def longest(str1): \n",
    "      \n",
    "    length = 0\n",
    "    str2=str1.split()\n",
    "      \n",
    "   \n",
    "    for i in str2: \n",
    "        if(len(i) > length): \n",
    "            length = len(i) \n",
    "      \n",
    "    return length  \n",
    "  \n",
    "str1= 'His performance was not that poor'\n",
    "print(longest(str1)) \n",
    "  "
   ]
  },
  {
   "cell_type": "code",
   "execution_count": 329,
   "metadata": {},
   "outputs": [
    {
     "name": "stdout",
     "output_type": "stream",
     "text": [
      "peform\n"
     ]
    }
   ],
   "source": [
    "#8.Write a Python program to remove the nth index character from a nonempty\n",
    "\n",
    "string.\n",
    "\n",
    "def remove(str1, n):\n",
    "    \n",
    "      c = str1[:n] \n",
    "      d = str1[n+1:]\n",
    "    \n",
    "      return c + d\n",
    "print(remove('perform', 2))"
   ]
  },
  {
   "cell_type": "code",
   "execution_count": 337,
   "metadata": {},
   "outputs": [
    {
     "name": "stdout",
     "output_type": "stream",
     "text": [
      "aapans\n"
     ]
    }
   ],
   "source": [
    "#9. Write a Python program to change a given string to a new string where the first and last chars have been exchanged.\n",
    "\n",
    "def swapped(str1):\n",
    "    a=str1[0] #s\n",
    "    b=str1[-1] #a\n",
    "   \n",
    "    str1= b+ str1[1:-1]+ a #aapans\n",
    "    \n",
    "    return str1\n",
    "\n",
    "print(swapped('sapana'))    \n",
    "    \n"
   ]
  },
  {
   "cell_type": "code",
   "execution_count": 383,
   "metadata": {},
   "outputs": [
    {
     "name": "stdout",
     "output_type": "stream",
     "text": [
      "promne\n"
     ]
    }
   ],
   "source": [
    "#10. Write a Python program to remove the characters which have odd index values of a given string.\n",
    "\n",
    "def outcome(str1):\n",
    "  result = ''\n",
    "  for i in range(len(str1)):\n",
    "    if i % 2 == 0:\n",
    "      result = result + str1[i]\n",
    "  return result\n",
    "\n",
    "\n",
    "print(outcome('performance'))\n"
   ]
  },
  {
   "cell_type": "code",
   "execution_count": 421,
   "metadata": {},
   "outputs": [
    {
     "name": "stdout",
     "output_type": "stream",
     "text": [
      "{'hello': 3, 'my': 2, 'name': 2, 'is': 2, '.': 1, 'how': 2, 'are': 2, 'you?': 1, 'you': 1}\n"
     ]
    }
   ],
   "source": [
    "#11.Write a Python program to count the occurrences of each word in a given sentence.\n",
    "\n",
    "def occurance(str1):\n",
    "    str1=str1.split()\n",
    "    counts = {}\n",
    "    for i in str1:\n",
    "        if i in counts:\n",
    "            counts[i] += 1\n",
    "        else:\n",
    "            counts[i] = 1\n",
    "    return counts\n",
    "print(occurance('hello my name is hello . how are you? my name is hello how are you'))\n"
   ]
  },
  {
   "cell_type": "code",
   "execution_count": 442,
   "metadata": {},
   "outputs": [
    {
     "name": "stdout",
     "output_type": "stream",
     "text": [
      "('sapana', 'SAPANA')\n"
     ]
    }
   ],
   "source": [
    "#12. Write a Python script that takes input from the user and displays that input back in upper and lower cases.\n",
    "\n",
    "def ulcases(str1):\n",
    "    \n",
    "    for i in str1:\n",
    "        a=str1.lower()\n",
    "        b=str1.upper()\n",
    "    return (a,b)\n",
    "    \n",
    "print(ulcases(\"SaPaNa\"))\n",
    "    "
   ]
  },
  {
   "cell_type": "code",
   "execution_count": 457,
   "metadata": {},
   "outputs": [
    {
     "name": "stdout",
     "output_type": "stream",
     "text": [
      "['is', 'my', 'name', 'sapana', 'subedi']\n"
     ]
    }
   ],
   "source": [
    "#13. Write a Python program that accepts a comma separated sequence of words as input and prints the unique words in sorted form (alphanumerically).\n",
    "\n",
    "str1=['my','name','is','sapana','subedi']\n",
    "\n",
    "print(sorted(str1))\n"
   ]
  },
  {
   "cell_type": "code",
   "execution_count": null,
   "metadata": {},
   "outputs": [],
   "source": [
    "#14. Write a Python function to create the HTML string with tags around the word(s).\n",
    "\n"
   ]
  },
  {
   "cell_type": "code",
   "execution_count": null,
   "metadata": {},
   "outputs": [],
   "source": [
    "#15.Write a Python function to insert a string in the middle of a string.\n",
    "Sample function and result :\n",
    "insert_sting_middle('[[]]<<>>', 'Python') -> [[Python]]\n",
    "insert_sting_middle('{{}}', 'PHP') -> {{PHP}}"
   ]
  },
  {
   "cell_type": "code",
   "execution_count": 463,
   "metadata": {},
   "outputs": [
    {
     "data": {
      "text/plain": [
       "257"
      ]
     },
     "execution_count": 463,
     "metadata": {},
     "output_type": "execute_result"
    }
   ],
   "source": [
    "#16. Write a Python program to sum all the items in a list.\n",
    "\n",
    "a=[1,2,5,6,9,2,21,67,90,54]\n",
    "sum(a)"
   ]
  },
  {
   "cell_type": "code",
   "execution_count": 466,
   "metadata": {},
   "outputs": [
    {
     "name": "stdout",
     "output_type": "stream",
     "text": [
      "1\n",
      "2\n",
      "10\n",
      "60\n",
      "540\n",
      "1080\n",
      "22680\n",
      "1519560\n",
      "136760400\n",
      "7385061600\n"
     ]
    }
   ],
   "source": [
    "# 17. Write a Python program to multiplies all the items in a list.\n",
    "\n",
    "a=[1,2,5,6,9,2,21,67,90,54]\n",
    "total=1\n",
    "for i in a:\n",
    "    total*=i\n",
    "    print(total)"
   ]
  },
  {
   "cell_type": "code",
   "execution_count": 471,
   "metadata": {},
   "outputs": [
    {
     "name": "stdout",
     "output_type": "stream",
     "text": [
      "7385061600\n"
     ]
    }
   ],
   "source": [
    "# 17. Write a Python program to multiplies all the items in a list.\n",
    "\n",
    "def total(a):\n",
    "    total=1\n",
    "    for i in a:\n",
    "        total=total*i\n",
    "    return total\n",
    "print(total([1,2,5,6,9,2,21,67,90,54]) )   "
   ]
  },
  {
   "cell_type": "code",
   "execution_count": 461,
   "metadata": {},
   "outputs": [
    {
     "name": "stdout",
     "output_type": "stream",
     "text": [
      "90\n"
     ]
    }
   ],
   "source": [
    "18. #Write a Python program to get the largest number from a list.\n",
    "\n",
    "a=[1,2,5,6,9,2,21,67,90,54]\n",
    "print(max(a))"
   ]
  },
  {
   "cell_type": "code",
   "execution_count": 462,
   "metadata": {},
   "outputs": [
    {
     "name": "stdout",
     "output_type": "stream",
     "text": [
      "1\n"
     ]
    }
   ],
   "source": [
    "#19. Write a Python program to get the smallest number from a list.\n",
    "\n",
    "a=[1,2,5,6,9,2,21,67,90,54]\n",
    "print(min(a))"
   ]
  },
  {
   "cell_type": "code",
   "execution_count": 520,
   "metadata": {},
   "outputs": [
    {
     "name": "stdout",
     "output_type": "stream",
     "text": [
      "3\n"
     ]
    }
   ],
   "source": [
    "#20. Write a Python program to count the number of strings where the string length is 2 or more and the first and last character are same from a given list of strings.\n",
    "#Sample List : ['abc', 'xyz', 'aba', '1221']\n",
    "#Expected Result : 2\n",
    "\n",
    "\n",
    "\n",
    "def timescount(str1):\n",
    "  counts = 0\n",
    "\n",
    "  for i in str1:\n",
    "    if len(i) > 1 and i[0] == i[-1]: #len of each string ie (3,3,3,4) & i[0]=abc & i[-1]=> each string ko 0 and -1 index compares\n",
    "      counts += 1\n",
    "  return counts\n",
    "\n",
    "print(timescount(['abc', 'xyz', 'aba', '1221', 'bbb']))"
   ]
  },
  {
   "cell_type": "code",
   "execution_count": 599,
   "metadata": {},
   "outputs": [
    {
     "name": "stdout",
     "output_type": "stream",
     "text": [
      "[(2, 1), (1, 2), (2, 3), (4, 4), (2, 5)]\n"
     ]
    }
   ],
   "source": [
    "#21. Write a Python program to get a list, sorted in increasing order by the last element in each tuple from a given list of non-empty tuples.\n",
    "#Sample List : [(2, 5), (1, 2), (4, 4), (2, 3), (2, 1)]\n",
    "#Expected Result : [(2, 1), (1, 2), (2, 3), (4, 4), (2, 5)]\n",
    "\n",
    "def Sortingbyindex(v):  \n",
    "    return(sorted(v, key = lambda x: x[1]))   \n",
    "      \n",
    "print(Sortingbyindex([(2, 5), (1, 2), (4, 4), (2, 3), (2, 1)]))  \n"
   ]
  },
  {
   "cell_type": "code",
   "execution_count": 547,
   "metadata": {},
   "outputs": [
    {
     "name": "stdout",
     "output_type": "stream",
     "text": [
      "[2, 1, 3, 4, 5]\n"
     ]
    }
   ],
   "source": [
    "#22. Write a Python program to remove duplicates from a list.\n",
    "\n",
    "def newlist(a):\n",
    "    b=[]\n",
    "    for i in a:\n",
    "        if i not in b:\n",
    "            b.append(i)\n",
    "    return b\n",
    "\n",
    "\n",
    "print(newlist([2,1,2,3,3,3,3,4,4,5,1]))\n",
    "\n"
   ]
  },
  {
   "cell_type": "code",
   "execution_count": 580,
   "metadata": {},
   "outputs": [
    {
     "name": "stdout",
     "output_type": "stream",
     "text": [
      "Empty\n"
     ]
    }
   ],
   "source": [
    "#23. Write a Python program to check a list is empty or not.\n",
    "\n",
    "def check(a):\n",
    "    if len(a)==0:\n",
    "      print('Empty')\n",
    "    else:\n",
    "      print('Not empty')\n",
    "    \n",
    "check([])    \n",
    "\n"
   ]
  },
  {
   "cell_type": "code",
   "execution_count": 583,
   "metadata": {},
   "outputs": [
    {
     "name": "stdout",
     "output_type": "stream",
     "text": [
      "[1, 2, 4, 5, 8, 4]\n",
      "[1, 2, 4, 5, 8, 4]\n"
     ]
    }
   ],
   "source": [
    "#24. Write a Python program to clone or copy a list.\n",
    "\n",
    "v=[1,2,4,5,8,4]\n",
    "b=v.copy()\n",
    "\n",
    "print(v)\n",
    "print(b)"
   ]
  },
  {
   "cell_type": "code",
   "execution_count": 630,
   "metadata": {},
   "outputs": [
    {
     "data": {
      "text/plain": [
       "False"
      ]
     },
     "execution_count": 630,
     "metadata": {},
     "output_type": "execute_result"
    }
   ],
   "source": [
    "#25. Write a Python program to check whether all dictionaries in a list are empty or not.\n",
    "\n",
    "l = [{1,2},{},{}]\n",
    "all( len(d) == 0 for d in l) #is empty?\n"
   ]
  },
  {
   "cell_type": "code",
   "execution_count": 654,
   "metadata": {},
   "outputs": [
    {
     "name": "stdout",
     "output_type": "stream",
     "text": [
      "['emp1', 'emp2', 'emp3', 'emp4']\n"
     ]
    }
   ],
   "source": [
    "#26. Write a Python program to insert a given string at the beginning of all items in a list.\n",
    "\n",
    "#Sample list : [1,2,3,4], string : emp\n",
    "#Expected output : ['emp1', 'emp2', 'emp3', 'emp4']\n",
    "\n",
    "def append(a, str1): \n",
    "      \n",
    "    str1= str1+'{0}'\n",
    "    a = [str1.format(i) for i in a] \n",
    "    return(a) \n",
    "  \n",
    "a = [1, 2, 3, 4] \n",
    "str1 = 'emp'\n",
    "print(append(a, str1)) \n",
    "\n",
    "\n",
    "\n",
    "\n",
    "#list= [1,2,3,4]\n",
    "#print(['emp{0}'.format(i) for i in  list]) #add emp in index0\n",
    "\n"
   ]
  },
  {
   "cell_type": "code",
   "execution_count": 683,
   "metadata": {},
   "outputs": [
    {
     "name": "stdout",
     "output_type": "stream",
     "text": [
      "[1, 3, 5, 7, 9, 2, 4, 6, 8]\n"
     ]
    }
   ],
   "source": [
    "#27. Write a Python program to replace the last element in a list with another list.\n",
    "#Sample data : [1, 3, 5, 7, 9, 10], [2, 4, 6, 8]\n",
    "#Expected Output: [1, 3, 5, 7, 9, 2, 4, 6, 8]\n",
    "\n",
    "def replace(l1, l2):\n",
    "     l1[-1:] = l2    \n",
    "     return l1  \n",
    "        \n",
    "l1= [1, 3, 5, 7, 9, 10]\n",
    "l2= [2, 4, 6, 8]\n",
    "print(replace(l1, l2)) \n",
    "       "
   ]
  },
  {
   "cell_type": "code",
   "execution_count": 675,
   "metadata": {},
   "outputs": [
    {
     "name": "stdout",
     "output_type": "stream",
     "text": [
      "{0: 10, 1: 20, 2: 30}\n"
     ]
    }
   ],
   "source": [
    "#28. Write a Python script to add a key to a dictionary.\n",
    "#Sample Dictionary : {0: 10, 1: 20}\n",
    "#Expected Result : {0: 10, 1: 20, 2: 30}\n",
    "\n",
    "\n",
    "dir={0: 10, 1: 20}\n",
    "dir[2]=30\n",
    "print(dir)"
   ]
  },
  {
   "cell_type": "code",
   "execution_count": 688,
   "metadata": {},
   "outputs": [
    {
     "name": "stdout",
     "output_type": "stream",
     "text": [
      "{1: 10, 2: 20, 3: 30, 4: 40, 5: 50, 6: 60}\n"
     ]
    }
   ],
   "source": [
    "#29. Write a Python script to concatenate following dictionaries to create a new one.\n",
    "#Sample Dictionary :\n",
    "#dic1={1:10, 2:20}\n",
    "#dic2={3:30, 4:40}\n",
    "#dic3={5:50,6:60}\n",
    "#Expected Result : {1: 10, 2: 20, 3: 30, 4: 40, 5: 50, 6: 60}\n",
    "\n",
    "dic1={1:10, 2:20}\n",
    "dic2={3:30, 4:40}\n",
    "dic3={5:50,6:60}\n",
    "dic = {}\n",
    "for d in (dic1, dic2, dic3): dic.update(d)\n",
    "print(dic)\n"
   ]
  },
  {
   "cell_type": "code",
   "execution_count": 689,
   "metadata": {},
   "outputs": [
    {
     "ename": "IndentationError",
     "evalue": "expected an indented block (<ipython-input-689-c8318ab63a9d>, line 6)",
     "output_type": "error",
     "traceback": [
      "\u001b[1;36m  File \u001b[1;32m\"<ipython-input-689-c8318ab63a9d>\"\u001b[1;36m, line \u001b[1;32m6\u001b[0m\n\u001b[1;33m    a=int(\"Enter the key\")\u001b[0m\n\u001b[1;37m    ^\u001b[0m\n\u001b[1;31mIndentationError\u001b[0m\u001b[1;31m:\u001b[0m expected an indented block\n"
     ]
    }
   ],
   "source": [
    "#30. Write a Python script to check whether a given key already exists in a dictionary.\n",
    "\n",
    "def check(dic):\n",
    "    \n",
    "\n",
    "a=int(\"Enter the key\")\n",
    "dic={1: 10, 2: 20, 3: 30, 4: 40, 5: 50, 6: 60}\n",
    "print(check(dic))\n",
    "\n"
   ]
  },
  {
   "cell_type": "code",
   "execution_count": null,
   "metadata": {},
   "outputs": [],
   "source": [
    "#31. Write a Python program to iterate over dictionaries\n",
    "\n"
   ]
  }
 ],
 "metadata": {
  "kernelspec": {
   "display_name": "Python 3",
   "language": "python",
   "name": "python3"
  },
  "language_info": {
   "codemirror_mode": {
    "name": "ipython",
    "version": 3
   },
   "file_extension": ".py",
   "mimetype": "text/x-python",
   "name": "python",
   "nbconvert_exporter": "python",
   "pygments_lexer": "ipython3",
   "version": "3.6.4"
  }
 },
 "nbformat": 4,
 "nbformat_minor": 2
}
