{
 "cells": [
  {
   "cell_type": "code",
   "execution_count": 61,
   "metadata": {},
   "outputs": [
    {
     "name": "stdout",
     "output_type": "stream",
     "text": [
      " {'g': 2, 'o': 3, 'l': 1, 'e': 1, '.': 1, 'c': 1, 'm': 1}\n"
     ]
    }
   ],
   "source": [
    "char1= \"google.com\"\n",
    "counts={}\n",
    "\n",
    "for i in char1:\n",
    "    if i in counts:\n",
    "        counts[i]+=1\n",
    "    else:\n",
    "        counts[i]=1\n",
    "        \n",
    "print (\" {}\".format(str(counts)))"
   ]
  },
  {
   "cell_type": "code",
   "execution_count": 62,
   "metadata": {},
   "outputs": [
    {
     "name": "stdout",
     "output_type": "stream",
     "text": [
      "pyon\n"
     ]
    }
   ],
   "source": [
    "msg= \"python\"\n",
    "\n",
    "for l in {msg}:\n",
    "    if len(msg)>=2:   \n",
    "     print(msg[0:2:1]+msg[-2::])\n",
    "    else: \n",
    "     print(\"\")\n",
    "   \n",
    "    "
   ]
  },
  {
   "cell_type": "code",
   "execution_count": 106,
   "metadata": {
    "scrolled": true
   },
   "outputs": [
    {
     "name": "stdout",
     "output_type": "stream",
     "text": [
      "tres$ar$\n"
     ]
    }
   ],
   "source": [
    "def updatedstr(str1): \n",
    "  char1 = str1[0]     \n",
    "  str1 = str1.replace(char1, '$') \n",
    "  str1 = char1 + str1[1:]\n",
    "\n",
    "  return str1\n",
    "\n",
    "print(updatedstr('trestart'))\n",
    "\n",
    " "
   ]
  },
  {
   "cell_type": "code",
   "execution_count": 129,
   "metadata": {},
   "outputs": [
    {
     "name": "stdout",
     "output_type": "stream",
     "text": [
      "xyc abz\n"
     ]
    }
   ],
   "source": [
    "def inputstr(x,y):\n",
    "  swaped_x= y[:2] + x[2:] # xyc\n",
    "  swaped_y= x[:2] + y[2:] # abz\n",
    "    \n",
    "  return swaped_x+ ' '+ swaped_y\n",
    "\n",
    "print(inputstr('abc', 'xyz'))"
   ]
  },
  {
   "cell_type": "code",
   "execution_count": 157,
   "metadata": {},
   "outputs": [
    {
     "name": "stdout",
     "output_type": "stream",
     "text": [
      "Annoyingly\n"
     ]
    }
   ],
   "source": [
    "str1=\"Annoying\"\n",
    "a=\"ing\"\n",
    "b=\"ly\"\n",
    "\n",
    "\n",
    "if len(str1)>=3:\n",
    "    if str1[-3:]== a:\n",
    "        print(str1 + b)\n",
    "    else:\n",
    "        print(str1 + a) \n",
    "else: \n",
    "        print({str1})"
   ]
  },
  {
   "cell_type": "code",
   "execution_count": 225,
   "metadata": {},
   "outputs": [
    {
     "name": "stdout",
     "output_type": "stream",
     "text": [
      "hello\n"
     ]
    }
   ],
   "source": [
    "str1= 'His performance was not that poor.'\n",
    "a= str1.find('not') #20\n",
    "b= str1.find('poor') #29\n",
    "c='good'\n",
    "\n",
    "if b > a and a>0 and b>0:\n",
    "    print(str1.replace(str1[a:(b+4)], c))\n",
    "else:\n",
    "    print('hello')"
   ]
  },
  {
   "cell_type": "code",
   "execution_count": null,
   "metadata": {},
   "outputs": [],
   "source": [
    "def output():\n",
    "    a= str1.find('not') #20\n",
    "    b= str1.find('poor') #29\n",
    "    c='good'\n",
    " if b > a and a>0 and b>0:   \n",
    "    str1 = str1.replace(str1[a:(b+4)], c)\n",
    "    return str1\n",
    " else:\n",
    "        return str1\n",
    "    \n",
    "print(output('The lyrics is not that poor!'))\n",
    "print(output('The lyrics is poor!'))\n",
    "    \n",
    "    "
   ]
  },
  {
   "cell_type": "code",
   "execution_count": null,
   "metadata": {},
   "outputs": [],
   "source": []
  }
 ],
 "metadata": {
  "kernelspec": {
   "display_name": "Python 3",
   "language": "python",
   "name": "python3"
  },
  "language_info": {
   "codemirror_mode": {
    "name": "ipython",
    "version": 3
   },
   "file_extension": ".py",
   "mimetype": "text/x-python",
   "name": "python",
   "nbconvert_exporter": "python",
   "pygments_lexer": "ipython3",
   "version": "3.6.4"
  }
 },
 "nbformat": 4,
 "nbformat_minor": 2
}
