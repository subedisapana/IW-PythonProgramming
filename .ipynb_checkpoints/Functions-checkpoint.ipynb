{
 "cells": [
  {
   "cell_type": "code",
   "execution_count": 8,
   "metadata": {},
   "outputs": [
    {
     "name": "stdout",
     "output_type": "stream",
     "text": [
      "90\n"
     ]
    }
   ],
   "source": [
    "#1. Write a Python function to find the Max of three numbers.\n",
    "\n",
    "def max(a,b,c):\n",
    "    \n",
    "    if a>b and a>c:\n",
    "        return a\n",
    "    if b>a and b>c:\n",
    "        return b\n",
    "    else:\n",
    "        return c\n",
    "\n",
    "    \n",
    "print(max(20,90,10))"
   ]
  },
  {
   "cell_type": "code",
   "execution_count": 91,
   "metadata": {},
   "outputs": [
    {
     "name": "stdout",
     "output_type": "stream",
     "text": [
      "20\n"
     ]
    }
   ],
   "source": [
    "#2. Write a Python function to sum all the numbers in a list.\n",
    "#Sample List : (8, 2, 3, 0, 7)\n",
    "#Expected Output : 20\n",
    "\n",
    "\n",
    "def sum(a):\n",
    "    total=0\n",
    "    for i in a:\n",
    "        total=total+i\n",
    "    return total\n",
    "print(sum([8,2,3,0,7]) )   "
   ]
  },
  {
   "cell_type": "code",
   "execution_count": 31,
   "metadata": {},
   "outputs": [
    {
     "name": "stdout",
     "output_type": "stream",
     "text": [
      "-336\n"
     ]
    }
   ],
   "source": [
    "#3. Write a Python function to multiply all the numbers in a list.\n",
    "#Sample List : (8, 2, 3, -1, 7)\n",
    "#Expected Output : -336\n",
    "\n",
    "\n",
    "def multiply(a):\n",
    "    total=1\n",
    "    for i in a:\n",
    "        total=total*i\n",
    "    return total\n",
    "print(multiply([8,2,3,-1,7]) )   "
   ]
  },
  {
   "cell_type": "code",
   "execution_count": 51,
   "metadata": {},
   "outputs": [
    {
     "name": "stdout",
     "output_type": "stream",
     "text": [
      "dcba4321\n"
     ]
    }
   ],
   "source": [
    "#4. Write a Python program to reverse a string.\n",
    "#Sample String : \"1234abcd\"\n",
    "#Expected Output : \"dcba4321\"\n",
    "\n",
    "\n",
    "def rev(str1):\n",
    "    \n",
    "    str1=str1[-1::-1]\n",
    "    \n",
    "    return str1\n",
    "    \n",
    "print(rev(\"1234abcd\"))\n"
   ]
  },
  {
   "cell_type": "code",
   "execution_count": 77,
   "metadata": {},
   "outputs": [
    {
     "name": "stdout",
     "output_type": "stream",
     "text": [
      "120\n"
     ]
    }
   ],
   "source": [
    "\n",
    "#5. Write a Python function to calculate the factorial of a number (a non-negative integer). The function accepts the number as an argument.\n",
    "\n",
    "def factorial(n):\n",
    "    factor=1\n",
    "    \n",
    "    for i in range(1, n+1):\n",
    "        factor= factor*i\n",
    "    return factor\n",
    "\n",
    "print(factorial(5))\n"
   ]
  },
  {
   "cell_type": "code",
   "execution_count": 93,
   "metadata": {},
   "outputs": [
    {
     "name": "stdout",
     "output_type": "stream",
     "text": [
      "not in range\n"
     ]
    }
   ],
   "source": [
    "#6. Write a Python function to check whether a number is in a given range.\n",
    "\n",
    "def range_check(a):\n",
    "        if a in range(1,10):\n",
    "            print(\"in range \")\n",
    "        else:\n",
    "            print(\"not in range\")\n",
    "range_check(0)\n",
    "\n",
    "\n",
    "\n"
   ]
  },
  {
   "cell_type": "code",
   "execution_count": 145,
   "metadata": {},
   "outputs": [
    {
     "name": "stdout",
     "output_type": "stream",
     "text": [
      "Original String :  The quick Brow Fox\n",
      "No. of Upper case characters :  3\n",
      "No. of Lower case Characters :  12\n"
     ]
    }
   ],
   "source": [
    "#7. Write a Python function that accepts a string and calculate the number of upper case letters and lower case letters.\n",
    "#Sample String : 'The quick Brow Fox'\n",
    "#Expected Output :\n",
    "#No. of Upper case characters : 3\n",
    "#No. of Lower case Characters : 12\n",
    "\n",
    "\n",
    "\n",
    "def calculateUL(a):\n",
    "    uppercase=0\n",
    "    lowercase=0\n",
    "    \n",
    "    for i in a:\n",
    "        if i.isupper():\n",
    "            uppercase += 1\n",
    "        elif i.islower():\n",
    "            lowercase+= 1\n",
    "        else:\n",
    "             pass\n",
    "    print (\"Original String : \", a)        \n",
    "    print (\"No. of Upper case characters : \", uppercase)\n",
    "    print (\"No. of Lower case Characters : \", lowercase ) \n",
    "\n",
    "calculateUL(\"The quick Brow Fox\")\n"
   ]
  },
  {
   "cell_type": "code",
   "execution_count": 161,
   "metadata": {},
   "outputs": [
    {
     "name": "stdout",
     "output_type": "stream",
     "text": [
      "[1, 2, 3, 4, 5]\n"
     ]
    }
   ],
   "source": [
    "#8. Write a Python function that takes a list and returns a new list with unique elements of the first list.\n",
    "#Sample List : [1,2,3,3,3,3,4,5]\n",
    "#Unique List : [1, 2, 3, 4, 5]\n",
    "\n",
    "\n",
    "\n",
    "def newlist(a):\n",
    "    b = []\n",
    "    for i in a:\n",
    "        if i not in b:\n",
    "            b.append(i)\n",
    "    return b\n",
    "\n",
    "\n",
    "print(newlist([1,2,3,3,3,3,4,5]))\n",
    "\n",
    "\n"
   ]
  },
  {
   "cell_type": "code",
   "execution_count": null,
   "metadata": {},
   "outputs": [],
   "source": [
    "#9. Write a Python function that takes a number as a parameter and check the number is prime or not.\n",
    "#Note : A prime number (or a prime) is a natural number greater than 1 and that has no positive divisors other than 1 and itself."
   ]
  },
  {
   "cell_type": "code",
   "execution_count": null,
   "metadata": {},
   "outputs": [],
   "source": [
    "#10. Write a Python program to print the even numbers from a given list.\n",
    "#Sample List : [1, 2, 3, 4, 5, 6, 7, 8, 9]\n",
    "#Expected Result : [2, 4, 6, 8]"
   ]
  },
  {
   "cell_type": "code",
   "execution_count": null,
   "metadata": {},
   "outputs": [],
   "source": [
    "#11. Write a Python program to create a lambda function that adds 15 to a given number passed in as an argument, also create a lambda function that multipliesargument x with argument y and print the result."
   ]
  },
  {
   "cell_type": "code",
   "execution_count": null,
   "metadata": {},
   "outputs": [],
   "source": [
    "#12. Write a Python program to create a function that takes one argument, and that argument will be multiplied with an unknown given number."
   ]
  },
  {
   "cell_type": "code",
   "execution_count": null,
   "metadata": {},
   "outputs": [],
   "source": [
    "#13. Write a Python program to sort a list of tuples using Lambda."
   ]
  },
  {
   "cell_type": "code",
   "execution_count": null,
   "metadata": {},
   "outputs": [],
   "source": [
    "#14. Write a Python program to sort a list of dictionaries using Lambda."
   ]
  },
  {
   "cell_type": "code",
   "execution_count": null,
   "metadata": {},
   "outputs": [],
   "source": [
    "#15. Write a Python program to filter a list of integers using Lambda."
   ]
  },
  {
   "cell_type": "code",
   "execution_count": null,
   "metadata": {},
   "outputs": [],
   "source": [
    "#16. Write a Python program to square and cube every number in a given list of integers using Lambda."
   ]
  },
  {
   "cell_type": "code",
   "execution_count": null,
   "metadata": {},
   "outputs": [],
   "source": [
    "#17. Write a Python program to find if a given string starts with a given character using Lambda."
   ]
  },
  {
   "cell_type": "code",
   "execution_count": null,
   "metadata": {},
   "outputs": [],
   "source": [
    "#18. Write a Python program to check whether a given string is number or not using Lambda."
   ]
  },
  {
   "cell_type": "code",
   "execution_count": null,
   "metadata": {},
   "outputs": [],
   "source": [
    "#19. Write a Python program to create Fibonacci series upto n using Lambda.\n"
   ]
  },
  {
   "cell_type": "code",
   "execution_count": null,
   "metadata": {},
   "outputs": [],
   "source": [
    "#20. Write a Python program to find intersection of two given arrays using Lambda."
   ]
  }
 ],
 "metadata": {
  "kernelspec": {
   "display_name": "Python 3",
   "language": "python",
   "name": "python3"
  },
  "language_info": {
   "codemirror_mode": {
    "name": "ipython",
    "version": 3
   },
   "file_extension": ".py",
   "mimetype": "text/x-python",
   "name": "python",
   "nbconvert_exporter": "python",
   "pygments_lexer": "ipython3",
   "version": "3.6.4"
  }
 },
 "nbformat": 4,
 "nbformat_minor": 2
}
